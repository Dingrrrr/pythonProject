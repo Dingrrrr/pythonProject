{
 "cells": [
  {
   "cell_type": "code",
   "execution_count": 1,
   "id": "99cf230a-2a30-4e30-820f-63dbab5e0a2c",
   "metadata": {
    "collapsed": true,
    "jupyter": {
     "outputs_hidden": true
    }
   },
   "outputs": [
    {
     "name": "stdout",
     "output_type": "stream",
     "text": [
      "one\n",
      "two\n",
      "three\n"
     ]
    }
   ],
   "source": [
    "test_list = ['one', 'two', 'three']\n",
    "for i in test_list:\n",
    "    print(i)"
   ]
  },
  {
   "cell_type": "code",
   "execution_count": 5,
   "id": "08c979da-5b95-4bda-9b35-ac45c70b056b",
   "metadata": {
    "collapsed": true,
    "jupyter": {
     "outputs_hidden": true
    }
   },
   "outputs": [
    {
     "name": "stdout",
     "output_type": "stream",
     "text": [
      "1 2\n",
      "3 4\n",
      "5 6\n"
     ]
    }
   ],
   "source": [
    "a = [(1,2), (3,4), (5,6)]\n",
    "for (first,last) in a:\n",
    "    print(first,last)"
   ]
  },
  {
   "cell_type": "code",
   "execution_count": 6,
   "id": "787f26c7-3253-4bd0-b7ad-d1332d938cd8",
   "metadata": {
    "collapsed": true,
    "jupyter": {
     "outputs_hidden": true
    }
   },
   "outputs": [
    {
     "data": {
      "text/plain": [
       "range(0, 10)"
      ]
     },
     "execution_count": 6,
     "metadata": {},
     "output_type": "execute_result"
    }
   ],
   "source": [
    "a = range(10)\n",
    "a"
   ]
  },
  {
   "cell_type": "code",
   "execution_count": 8,
   "id": "63b3c2bf-1a0b-4228-9f8d-8934c898847d",
   "metadata": {
    "collapsed": true,
    "jupyter": {
     "outputs_hidden": true
    }
   },
   "outputs": [
    {
     "name": "stdout",
     "output_type": "stream",
     "text": [
      "1\n",
      "3\n",
      "5\n",
      "7\n",
      "9\n"
     ]
    }
   ],
   "source": [
    "for i in range(1,11,2):\n",
    "    print(i)"
   ]
  },
  {
   "cell_type": "code",
   "execution_count": 22,
   "id": "4e173291-9e0a-4968-833a-39f7f694186d",
   "metadata": {},
   "outputs": [
    {
     "name": "stdout",
     "output_type": "stream",
     "text": [
      " 2  3  4  5  6  7  8  9 \n",
      " 4  6  8 10 12 14 16 18 \n",
      " 6  9 12 15 18 21 24 27 \n",
      " 8 12 16 20 24 28 32 36 \n",
      "10 15 20 25 30 35 40 45 \n",
      "12 18 24 30 36 42 48 54 \n",
      "14 21 28 35 42 49 56 63 \n",
      "16 24 32 40 48 56 64 72 \n",
      "18 27 36 45 54 63 72 81 \n"
     ]
    }
   ],
   "source": [
    "for i in range(1,10): \n",
    "    for j in range(2,10):\n",
    "        result = i*j\n",
    "        print(f\"{result:2}\", end = \" \")\n",
    "        # ctrl + / 면 주석이 생긴다.\n",
    "    print('')"
   ]
  },
  {
   "cell_type": "code",
   "execution_count": 30,
   "id": "54aaf48f-ce07-48c7-8920-8a21846ec332",
   "metadata": {
    "collapsed": true,
    "jupyter": {
     "outputs_hidden": true
    }
   },
   "outputs": [
    {
     "name": "stdout",
     "output_type": "stream",
     "text": [
      "----------2단----------\n",
      " 2  * 1  = 2  \n",
      " 2  * 2  = 4  \n",
      " 2  * 3  = 6  \n",
      " 2  * 4  = 8  \n",
      " 2  * 5  = 10 \n",
      " 2  * 6  = 12 \n",
      " 2  * 7  = 14 \n",
      " 2  * 8  = 16 \n",
      " 2  * 9  = 18 \n",
      "\n",
      "----------3단----------\n",
      " 3  * 1  = 3  \n",
      " 3  * 2  = 6  \n",
      " 3  * 3  = 9  \n",
      " 3  * 4  = 12 \n",
      " 3  * 5  = 15 \n",
      " 3  * 6  = 18 \n",
      " 3  * 7  = 21 \n",
      " 3  * 8  = 24 \n",
      " 3  * 9  = 27 \n",
      "\n",
      "----------4단----------\n",
      " 4  * 1  = 4  \n",
      " 4  * 2  = 8  \n",
      " 4  * 3  = 12 \n",
      " 4  * 4  = 16 \n",
      " 4  * 5  = 20 \n",
      " 4  * 6  = 24 \n",
      " 4  * 7  = 28 \n",
      " 4  * 8  = 32 \n",
      " 4  * 9  = 36 \n",
      "\n",
      "----------5단----------\n",
      " 5  * 1  = 5  \n",
      " 5  * 2  = 10 \n",
      " 5  * 3  = 15 \n",
      " 5  * 4  = 20 \n",
      " 5  * 5  = 25 \n",
      " 5  * 6  = 30 \n",
      " 5  * 7  = 35 \n",
      " 5  * 8  = 40 \n",
      " 5  * 9  = 45 \n",
      "\n",
      "----------6단----------\n",
      " 6  * 1  = 6  \n",
      " 6  * 2  = 12 \n",
      " 6  * 3  = 18 \n",
      " 6  * 4  = 24 \n",
      " 6  * 5  = 30 \n",
      " 6  * 6  = 36 \n",
      " 6  * 7  = 42 \n",
      " 6  * 8  = 48 \n",
      " 6  * 9  = 54 \n",
      "\n",
      "----------7단----------\n",
      " 7  * 1  = 7  \n",
      " 7  * 2  = 14 \n",
      " 7  * 3  = 21 \n",
      " 7  * 4  = 28 \n",
      " 7  * 5  = 35 \n",
      " 7  * 6  = 42 \n",
      " 7  * 7  = 49 \n",
      " 7  * 8  = 56 \n",
      " 7  * 9  = 63 \n",
      "\n",
      "----------8단----------\n",
      " 8  * 1  = 8  \n",
      " 8  * 2  = 16 \n",
      " 8  * 3  = 24 \n",
      " 8  * 4  = 32 \n",
      " 8  * 5  = 40 \n",
      " 8  * 6  = 48 \n",
      " 8  * 7  = 56 \n",
      " 8  * 8  = 64 \n",
      " 8  * 9  = 72 \n",
      "\n",
      "----------9단----------\n",
      " 9  * 1  = 9  \n",
      " 9  * 2  = 18 \n",
      " 9  * 3  = 27 \n",
      " 9  * 4  = 36 \n",
      " 9  * 5  = 45 \n",
      " 9  * 6  = 54 \n",
      " 9  * 7  = 63 \n",
      " 9  * 8  = 72 \n",
      " 9  * 9  = 81 \n",
      "\n"
     ]
    }
   ],
   "source": [
    "# 2~9단\n",
    "str1 = '-'\n",
    "for i in range(2,10):\n",
    "    print(f'{str1*10}{i}단{str1*10}')\n",
    "    for j in range(1,10):\n",
    "        print(f'{i:^4}*{j:^4}={i*j:^4}')\n",
    "    print(\"\")"
   ]
  },
  {
   "cell_type": "code",
   "execution_count": 52,
   "id": "4669d49a-7be7-4af7-8c80-5f4f8f3af450",
   "metadata": {},
   "outputs": [
    {
     "name": "stdout",
     "output_type": "stream",
     "text": [
      "   2 * 1 = 2   3 * 1 = 3   4 * 1 = 4   5 * 1 = 5   6 * 1 = 6   7 * 1 = 7   8 * 1 = 8   9 * 1 = 9\n",
      "   2 * 2 = 4   3 * 2 = 6   4 * 2 = 8   5 * 2 =10   6 * 2 =12   7 * 2 =14   8 * 2 =16   9 * 2 =18\n",
      "   2 * 3 = 6   3 * 3 = 9   4 * 3 =12   5 * 3 =15   6 * 3 =18   7 * 3 =21   8 * 3 =24   9 * 3 =27\n",
      "   2 * 4 = 8   3 * 4 =12   4 * 4 =16   5 * 4 =20   6 * 4 =24   7 * 4 =28   8 * 4 =32   9 * 4 =36\n",
      "   2 * 5 =10   3 * 5 =15   4 * 5 =20   5 * 5 =25   6 * 5 =30   7 * 5 =35   8 * 5 =40   9 * 5 =45\n",
      "   2 * 6 =12   3 * 6 =18   4 * 6 =24   5 * 6 =30   6 * 6 =36   7 * 6 =42   8 * 6 =48   9 * 6 =54\n",
      "   2 * 7 =14   3 * 7 =21   4 * 7 =28   5 * 7 =35   6 * 7 =42   7 * 7 =49   8 * 7 =56   9 * 7 =63\n",
      "   2 * 8 =16   3 * 8 =24   4 * 8 =32   5 * 8 =40   6 * 8 =48   7 * 8 =56   8 * 8 =64   9 * 8 =72\n",
      "   2 * 9 =18   3 * 9 =27   4 * 9 =36   5 * 9 =45   6 * 9 =54   7 * 9 =63   8 * 9 =72   9 * 9 =81\n"
     ]
    }
   ],
   "source": [
    "# 2~9단\n",
    "str1 = '-'\n",
    "for i in range(1,10):\n",
    "    for j in range(2,10):\n",
    "        print(f'{j:>4} * {i:^2}={i*j:>2}',end='')\n",
    "    print()"
   ]
  },
  {
   "cell_type": "code",
   "execution_count": 54,
   "id": "f7d71598-280c-4139-a867-61de25df52b3",
   "metadata": {},
   "outputs": [
    {
     "name": "stdout",
     "output_type": "stream",
     "text": [
      "[2, 4, 6, 8, 10, 12, 14, 16, 18, 3, 6, 9, 12, 15, 18, 21, 24, 27, 4, 8, 12, 16, 20, 24, 28, 32, 36, 5, 10, 15, 20, 25, 30, 35, 40, 45, 6, 12, 18, 24, 30, 36, 42, 48, 54, 7, 14, 21, 28, 35, 42, 49, 56, 63, 8, 16, 24, 32, 40, 48, 56, 64, 72, 9, 18, 27, 36, 45, 54, 63, 72, 81]\n"
     ]
    }
   ],
   "source": [
    "result = [x*y for x in range(2,10)\n",
    "              for y in range(1,10)]\n",
    "print(result)"
   ]
  },
  {
   "cell_type": "code",
   "execution_count": 55,
   "id": "5a161adf-388a-42d9-892b-bbb04d7dfe5d",
   "metadata": {},
   "outputs": [
    {
     "name": "stdout",
     "output_type": "stream",
     "text": [
      "[3, 6, 9, 12]\n"
     ]
    }
   ],
   "source": [
    "a = [1,2,3,4]\n",
    "result = [num * 3 for num in a]\n",
    "print(result)"
   ]
  },
  {
   "cell_type": "code",
   "execution_count": null,
   "id": "045fc795-5648-48f3-9ec1-46bbfdee0d64",
   "metadata": {},
   "outputs": [],
   "source": []
  }
 ],
 "metadata": {
  "kernelspec": {
   "display_name": "Python 3 (ipykernel)",
   "language": "python",
   "name": "python3"
  },
  "language_info": {
   "codemirror_mode": {
    "name": "ipython",
    "version": 3
   },
   "file_extension": ".py",
   "mimetype": "text/x-python",
   "name": "python",
   "nbconvert_exporter": "python",
   "pygments_lexer": "ipython3",
   "version": "3.11.7"
  }
 },
 "nbformat": 4,
 "nbformat_minor": 5
}
