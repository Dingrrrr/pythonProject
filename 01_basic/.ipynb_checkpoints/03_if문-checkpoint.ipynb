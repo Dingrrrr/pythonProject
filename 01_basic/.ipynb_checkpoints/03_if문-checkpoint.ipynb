{
 "cells": [
  {
   "cell_type": "raw",
   "id": "162e6f5c-0ced-4d13-8075-fc34f6912e03",
   "metadata": {},
   "source": [
    "quiz 1) 주민등록번호를 입력받아서 성별을 출력하세요.\n",
    "입력예: 123456 - 1234567\n",
    "8번째 자리값이 1,3 -> 남자 2,4 -> 여자 "
   ]
  },
  {
   "cell_type": "code",
   "execution_count": 7,
   "id": "9b11f2e7-0422-41fb-be13-c55255a32738",
   "metadata": {},
   "outputs": [
    {
     "name": "stdin",
     "output_type": "stream",
     "text": [
      "주민등록번호를 입력하세요:  123456-1234567\n"
     ]
    },
    {
     "name": "stdout",
     "output_type": "stream",
     "text": [
      "남자\n"
     ]
    }
   ],
   "source": [
    "number = input('주민등록번호를 입력하세요: ')\n",
    "if number[7] in ['1','3']:\n",
    "    print('남자')\n",
    "else:\n",
    "    print('여자')"
   ]
  },
  {
   "cell_type": "code",
   "execution_count": 5,
   "id": "13608728-e088-4071-89b9-e8c4a580afbf",
   "metadata": {},
   "outputs": [
    {
     "name": "stdin",
     "output_type": "stream",
     "text": [
      "주민등록번호를 입력하세요:  123456-1234567\n"
     ]
    },
    {
     "name": "stdout",
     "output_type": "stream",
     "text": [
      "남자\n"
     ]
    }
   ],
   "source": [
    "number = input('주민등록번호를 입력하세요: ')\n",
    "result = '남자' if number[7] in ['1', '3'] else '여자'\n",
    "print(result)"
   ]
  },
  {
   "cell_type": "raw",
   "id": "63509e53-6416-4182-8322-472edc61fb7d",
   "metadata": {},
   "source": [
    "quiz 2) 이메일 주소를 입력받아서 @있는지 여부를 체크하고 있으면 아이디만 출력하고 없으면 @이 없다는 메시지를 출력하세요시 "
   ]
  },
  {
   "cell_type": "code",
   "execution_count": 17,
   "id": "d6021f61-c4c9-4283-9b43-c60dedbca220",
   "metadata": {},
   "outputs": [
    {
     "name": "stdin",
     "output_type": "stream",
     "text": [
      "이메일 주소를 입력하세요:  dbsdk6789@naver.com\n"
     ]
    },
    {
     "name": "stdout",
     "output_type": "stream",
     "text": [
      "dbsdk6789\n"
     ]
    }
   ],
   "source": [
    "email = input('이메일 주소를 입력하세요: ')\n",
    "e = email.find('@')\n",
    "if e == -1:\n",
    "    print('@이 없습니다.')\n",
    "else :\n",
    "    print(email[:email.find('@')])"
   ]
  },
  {
   "cell_type": "code",
   "execution_count": 20,
   "id": "4093131b-3ea2-46d0-ac5b-d72cfded1c8a",
   "metadata": {},
   "outputs": [
    {
     "name": "stdin",
     "output_type": "stream",
     "text": [
      "이메일 주소를 입력하세요:  hog.co.kr\n"
     ]
    },
    {
     "name": "stdout",
     "output_type": "stream",
     "text": [
      "@형식이 올바르지 않습니다.\n"
     ]
    }
   ],
   "source": [
    "email = input('이메일 주소를 입력하세요: ')\n",
    "if email.count('@') == 1:\n",
    "    print(email[:email.find('@')])\n",
    "else :\n",
    "    print('@형식이 올바르지 않습니다.')"
   ]
  },
  {
   "cell_type": "code",
   "execution_count": 25,
   "id": "3a2afb0f-8177-4ab1-8d66-85e96fc3cacd",
   "metadata": {},
   "outputs": [
    {
     "name": "stdin",
     "output_type": "stream",
     "text": [
      "이메일 주소를 입력하세요:  dbsdk6789@naver.com\n"
     ]
    },
    {
     "name": "stdout",
     "output_type": "stream",
     "text": [
      "dbsdk6789\n"
     ]
    }
   ],
   "source": [
    "email = input('이메일 주소를 입력하세요: ')\n",
    "result = ('@형식이 올바르지 않습니다.') if email.find('@') == -1 else email[:email.find('@')]\n",
    "print(result)"
   ]
  },
  {
   "cell_type": "code",
   "execution_count": 22,
   "id": "01b303da-eb41-44f8-bae5-fad509b07a27",
   "metadata": {},
   "outputs": [
    {
     "name": "stdin",
     "output_type": "stream",
     "text": [
      "이메일 주소를 입력하세요:  dbsdk6789@naver.com\n"
     ]
    },
    {
     "name": "stdout",
     "output_type": "stream",
     "text": [
      "dbsdk6789\n"
     ]
    }
   ],
   "source": [
    "email = input('이메일 주소를 입력하세요: ')\n",
    "result = email[:email.find('@')] if email.count('@') == 1 else '@형식이 올바르지 않습니다.'\n",
    "print(result)"
   ]
  },
  {
   "cell_type": "code",
   "execution_count": null,
   "id": "7e3804b2-f20e-4b14-8b3d-c8201eaaa0de",
   "metadata": {},
   "outputs": [],
   "source": []
  }
 ],
 "metadata": {
  "kernelspec": {
   "display_name": "Python 3 (ipykernel)",
   "language": "python",
   "name": "python3"
  },
  "language_info": {
   "codemirror_mode": {
    "name": "ipython",
    "version": 3
   },
   "file_extension": ".py",
   "mimetype": "text/x-python",
   "name": "python",
   "nbconvert_exporter": "python",
   "pygments_lexer": "ipython3",
   "version": "3.11.7"
  }
 },
 "nbformat": 4,
 "nbformat_minor": 5
}
