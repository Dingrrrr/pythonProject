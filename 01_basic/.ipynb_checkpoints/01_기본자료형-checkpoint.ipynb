{
 "cells": [
  {
   "cell_type": "markdown",
   "id": "56d5de53-c26b-4c05-a063-6738041b30d2",
   "metadata": {},
   "source": [
    "# 1. 기본 데이터 타입 익히기"
   ]
  },
  {
   "cell_type": "markdown",
   "id": "8c482983-fad8-48b6-9119-ece417afa95b",
   "metadata": {},
   "source": [
    "## 1. 숫자형"
   ]
  },
  {
   "cell_type": "code",
   "execution_count": 4,
   "id": "bdd63c53-76be-4f1e-8f01-806e570d90b7",
   "metadata": {},
   "outputs": [
    {
     "name": "stdout",
     "output_type": "stream",
     "text": [
      "123\n"
     ]
    }
   ],
   "source": [
    "a = 123\n",
    "print(a)"
   ]
  },
  {
   "cell_type": "code",
   "execution_count": 7,
   "id": "9e5d7996-766c-4b92-a8ad-fa2a268db5f9",
   "metadata": {},
   "outputs": [
    {
     "name": "stdout",
     "output_type": "stream",
     "text": [
      "123\n",
      "345\n"
     ]
    }
   ],
   "source": [
    "b = 345\n",
    "print(a)\n",
    "print(b)"
   ]
  },
  {
   "cell_type": "code",
   "execution_count": 8,
   "id": "b5e8a651-7f88-4d76-a17d-93aaddae0550",
   "metadata": {},
   "outputs": [
    {
     "data": {
      "text/plain": [
       "1.3"
      ]
     },
     "execution_count": 8,
     "metadata": {},
     "output_type": "execute_result"
    }
   ],
   "source": [
    "c = 1.3\n",
    "c"
   ]
  },
  {
   "cell_type": "code",
   "execution_count": 9,
   "id": "92b10005-fc50-4da8-9cd6-897b493a9bf0",
   "metadata": {},
   "outputs": [
    {
     "name": "stdout",
     "output_type": "stream",
     "text": [
      "<class 'int'>\n"
     ]
    }
   ],
   "source": [
    " print(type(a))"
   ]
  },
  {
   "cell_type": "code",
   "execution_count": 10,
   "id": "0db6f1db-78a1-41a5-8cbb-5d70f3bba672",
   "metadata": {},
   "outputs": [
    {
     "data": {
      "text/plain": [
       "int"
      ]
     },
     "execution_count": 10,
     "metadata": {},
     "output_type": "execute_result"
    }
   ],
   "source": [
    "type(b)"
   ]
  },
  {
   "cell_type": "code",
   "execution_count": 11,
   "id": "80fe1217-9a0b-4d9a-9db3-c160f2217515",
   "metadata": {},
   "outputs": [
    {
     "name": "stdout",
     "output_type": "stream",
     "text": [
      "<class 'float'>\n"
     ]
    }
   ],
   "source": [
    "print(type(c))"
   ]
  },
  {
   "cell_type": "code",
   "execution_count": 12,
   "id": "60a94a0f-1a87-4be0-b75a-31f69b5bffe0",
   "metadata": {},
   "outputs": [
    {
     "data": {
      "text/plain": [
       "float"
      ]
     },
     "execution_count": 12,
     "metadata": {},
     "output_type": "execute_result"
    }
   ],
   "source": [
    "type(c)"
   ]
  },
  {
   "cell_type": "code",
   "execution_count": 14,
   "id": "b1c6a760-ca23-4253-b387-68979ff8fd1d",
   "metadata": {},
   "outputs": [
    {
     "data": {
      "text/plain": [
       "127"
      ]
     },
     "execution_count": 14,
     "metadata": {},
     "output_type": "execute_result"
    }
   ],
   "source": [
    "d = 0o177\n",
    "d"
   ]
  },
  {
   "cell_type": "code",
   "execution_count": 15,
   "id": "b4c2537b-129b-461c-bd7c-b54c3c8e3ce0",
   "metadata": {},
   "outputs": [
    {
     "data": {
      "text/plain": [
       "int"
      ]
     },
     "execution_count": 15,
     "metadata": {},
     "output_type": "execute_result"
    }
   ],
   "source": [
    "type(d)"
   ]
  },
  {
   "cell_type": "code",
   "execution_count": 16,
   "id": "bfbcf777-1479-4d40-9646-d3a41c21671c",
   "metadata": {},
   "outputs": [
    {
     "data": {
      "text/plain": [
       "255"
      ]
     },
     "execution_count": 16,
     "metadata": {},
     "output_type": "execute_result"
    }
   ],
   "source": [
    "e = 0xff\n",
    "e"
   ]
  },
  {
   "cell_type": "code",
   "execution_count": 17,
   "id": "4af03223-c7c3-41bb-9374-bd46b83b562d",
   "metadata": {},
   "outputs": [
    {
     "name": "stdin",
     "output_type": "stream",
     "text": [
      "숫자를 입력하세요 >> 1111\n"
     ]
    },
    {
     "name": "stdout",
     "output_type": "stream",
     "text": [
      "1111\n",
      "<class 'str'>\n"
     ]
    }
   ],
   "source": [
    "data = input('숫자를 입력하세요 >>')\n",
    "print(data)\n",
    "print(type(data))"
   ]
  },
  {
   "cell_type": "code",
   "execution_count": 18,
   "id": "6f2a9fb9-7013-4e34-bdf3-e145e52be79b",
   "metadata": {},
   "outputs": [
    {
     "name": "stdout",
     "output_type": "stream",
     "text": [
      "<class 'int'>\n"
     ]
    }
   ],
   "source": [
    "data = int(data)\n",
    "print(type(data))"
   ]
  },
  {
   "cell_type": "raw",
   "id": "56b5cd1e-1fcd-4fe0-ad6e-dec06531aef9",
   "metadata": {},
   "source": [
    "quiz> 박스당 3개씩 들어가는 과일이 있다.\n",
    "전체 과일의 갯수를 입력받아 몇 박스 몇 개가 남는지 출력하세요."
   ]
  },
  {
   "cell_type": "code",
   "execution_count": 26,
   "id": "edd369c2-6563-4ca4-896e-98fab148df31",
   "metadata": {},
   "outputs": [
    {
     "name": "stdin",
     "output_type": "stream",
     "text": [
      "전체 과일 갯수를 입력하세요 >> 23\n"
     ]
    },
    {
     "name": "stdout",
     "output_type": "stream",
     "text": [
      "7박스\n",
      "2개\n"
     ]
    }
   ],
   "source": [
    "all = input('전체 과일 갯수를 입력하세요 >>')\n",
    "all = int(all)\n",
    "box = all // 3\n",
    "fruit = all % 3\n",
    "print(str(box) + '박스')\n",
    "print(str(fruit) + '개')"
   ]
  },
  {
   "cell_type": "code",
   "execution_count": 27,
   "id": "75e01d31-188d-409d-9306-321729c6819f",
   "metadata": {
    "scrolled": true
   },
   "outputs": [
    {
     "name": "stdin",
     "output_type": "stream",
     "text": [
      "갯수를 입력하세요 >>  8\n"
     ]
    },
    {
     "name": "stdout",
     "output_type": "stream",
     "text": [
      "총  8 개- 2 박스 2 개\n"
     ]
    }
   ],
   "source": [
    "a = 3\n",
    "count = int(input(\"갯수를 입력하세요 >> \"))\n",
    "print('총 ',count,'개-',count//a,'박스',count%a,'개')"
   ]
  },
  {
   "cell_type": "markdown",
   "id": "0c08a98d-c07c-4a37-8578-834e906bb7bd",
   "metadata": {},
   "source": [
    "## 2. 문자열 자료형"
   ]
  },
  {
   "cell_type": "code",
   "execution_count": 3,
   "id": "dc86101b-5742-4cb9-bef5-bf25c915d94a",
   "metadata": {},
   "outputs": [],
   "source": [
    "food = \"python's favorite food is per1\""
   ]
  },
  {
   "cell_type": "code",
   "execution_count": 9,
   "id": "c5525571-915a-4e08-bae8-893847ca2039",
   "metadata": {},
   "outputs": [
    {
     "name": "stdout",
     "output_type": "stream",
     "text": [
      "python's favorite \n",
      "food is perl\n"
     ]
    }
   ],
   "source": [
    "food = \"python's favorite \\nfood is perl\"\n",
    "print(food)"
   ]
  },
  {
   "cell_type": "code",
   "execution_count": 12,
   "id": "cb0a4ea8-5e63-483c-aca8-2259ff3f1ebc",
   "metadata": {},
   "outputs": [
    {
     "name": "stdout",
     "output_type": "stream",
     "text": [
      "python's favorite food is per1\n",
      "next\n",
      "~~\n"
     ]
    }
   ],
   "source": [
    "food = \"\"\"python's favorite food is per1\n",
    "next\n",
    "~~\"\"\"\n",
    "print(food)"
   ]
  },
  {
   "cell_type": "code",
   "execution_count": 16,
   "id": "e24c54a5-e0ca-4cd7-a8db-c5bff4067003",
   "metadata": {},
   "outputs": [
    {
     "data": {
      "text/plain": [
       "'Python is fun!1'"
      ]
     },
     "execution_count": 16,
     "metadata": {},
     "output_type": "execute_result"
    }
   ],
   "source": [
    "head = \"Python\"\n",
    "tail = \" is fun!\"\n",
    "head + tail + str(1)"
   ]
  },
  {
   "cell_type": "code",
   "execution_count": 20,
   "id": "66ec9223-2e9d-4194-8926-d901dca402ad",
   "metadata": {},
   "outputs": [
    {
     "data": {
      "text/plain": [
       "'pythonpython'"
      ]
     },
     "execution_count": 20,
     "metadata": {},
     "output_type": "execute_result"
    }
   ],
   "source": [
    "a = \"python\"\n",
    "a * 2"
   ]
  },
  {
   "cell_type": "code",
   "execution_count": 21,
   "id": "14c54532-dbfc-457f-afbd-a501419ed9be",
   "metadata": {},
   "outputs": [
    {
     "name": "stdout",
     "output_type": "stream",
     "text": [
      "==================================================\n",
      "My Program\n",
      "==================================================\n"
     ]
    }
   ],
   "source": [
    "print(\"=\" * 50)\n",
    "print(\"My Program\")\n",
    "print(\"=\" * 50)"
   ]
  },
  {
   "cell_type": "code",
   "execution_count": 23,
   "id": "863ad8f9-e308-43e8-aba8-457eb29d18cb",
   "metadata": {},
   "outputs": [
    {
     "data": {
      "text/plain": [
       "17"
      ]
     },
     "execution_count": 23,
     "metadata": {},
     "output_type": "execute_result"
    }
   ],
   "source": [
    "a = \"Life is too short\"\n",
    "len(a)"
   ]
  },
  {
   "cell_type": "raw",
   "id": "65794152-0850-4fb9-9cf5-50872240ec03",
   "metadata": {},
   "source": [
    "print, len은 파이썬의 기본 내장 함수. \n",
    "import의 경우 기본값 이외의 함수를 가져올 때 사용."
   ]
  },
  {
   "cell_type": "code",
   "execution_count": 24,
   "id": "77209bab-aa8d-4f63-84c8-2022d19231e7",
   "metadata": {},
   "outputs": [
    {
     "data": {
      "text/plain": [
       "'e'"
      ]
     },
     "execution_count": 24,
     "metadata": {},
     "output_type": "execute_result"
    }
   ],
   "source": [
    "a = \"Life is too short, You need Python\"\n",
    "a[3]"
   ]
  },
  {
   "cell_type": "code",
   "execution_count": 25,
   "id": "3fef2c0e-ed36-4bbc-975e-363563c05b45",
   "metadata": {},
   "outputs": [
    {
     "data": {
      "text/plain": [
       "'n'"
      ]
     },
     "execution_count": 25,
     "metadata": {},
     "output_type": "execute_result"
    }
   ],
   "source": [
    "a[-1]"
   ]
  },
  {
   "cell_type": "code",
   "execution_count": 26,
   "id": "10ad99d5-9703-4d14-817e-7cbdd148a4bf",
   "metadata": {},
   "outputs": [
    {
     "data": {
      "text/plain": [
       "'Life'"
      ]
     },
     "execution_count": 26,
     "metadata": {},
     "output_type": "execute_result"
    }
   ],
   "source": [
    "a[0:4]"
   ]
  },
  {
   "cell_type": "raw",
   "id": "f8ebff86-7731-4124-b39f-e8e986b99318",
   "metadata": {},
   "source": [
    "a[0:4]면 4의 앞까지만 출력. 근데 이건 라이브러리에 따라서 다르다. 앞의 값, 뒤의 값도 포함시키기도 함. 기본적으로는 뒤의 값은 뺀다. api를 확인-"
   ]
  },
  {
   "cell_type": "code",
   "execution_count": 29,
   "id": "24fa6419-c1f2-4882-9dd9-a917505d91ec",
   "metadata": {},
   "outputs": [
    {
     "data": {
      "text/plain": [
       "'Life is to'"
      ]
     },
     "execution_count": 29,
     "metadata": {},
     "output_type": "execute_result"
    }
   ],
   "source": [
    "a[:10]"
   ]
  },
  {
   "cell_type": "code",
   "execution_count": 30,
   "id": "8b037c4d-31eb-4cd9-86f3-473999795c03",
   "metadata": {},
   "outputs": [
    {
     "data": {
      "text/plain": [
       "'You need'"
      ]
     },
     "execution_count": 30,
     "metadata": {},
     "output_type": "execute_result"
    }
   ],
   "source": [
    "a[19:-7]"
   ]
  },
  {
   "cell_type": "raw",
   "id": "9712424b-5dd7-413d-833b-26a6a75b6857",
   "metadata": {},
   "source": [
    "a[19]부터 a[-8]까지를 의미."
   ]
  },
  {
   "cell_type": "raw",
   "id": "b8fe0af0-acf1-4e91-8241-a59b267d6c06",
   "metadata": {},
   "source": [
    "quiz > 이메일 주소를 입력받아서 .com으로 끝나는지 내용을 출력해보세요."
   ]
  },
  {
   "cell_type": "code",
   "execution_count": 42,
   "id": "4502623e-1731-47ee-8a29-ef9600ab4e3f",
   "metadata": {},
   "outputs": [
    {
     "name": "stdin",
     "output_type": "stream",
     "text": [
      "이메일 주소를 입력하세요. >>  hello@naver.com\n"
     ]
    },
    {
     "name": "stdout",
     "output_type": "stream",
     "text": [
      "hello@naver.com\n",
      ".com\n"
     ]
    }
   ],
   "source": [
    "email = str(input(\"이메일 주소를 입력하세요. >> \"))\n",
    "e = len(email)\n",
    "com = email[e-4:]\n",
    "print(email)\n",
    "print(com)\n"
   ]
  },
  {
   "cell_type": "code",
   "execution_count": 46,
   "id": "5bce972e-c2d8-4ddb-9280-be419eeb4a64",
   "metadata": {},
   "outputs": [
    {
     "name": "stdin",
     "output_type": "stream",
     "text": [
      "이메일 주소 입력하세요>>>  hello@naver.com\n"
     ]
    },
    {
     "name": "stdout",
     "output_type": "stream",
     "text": [
      ".com\n"
     ]
    }
   ],
   "source": [
    "email = input(\"이메일 주소 입력하세요>>> \")\n",
    "print(email[-4:])"
   ]
  },
  {
   "cell_type": "raw",
   "id": "46ccfa3a-8788-48fd-b6ba-fbb6a40e52b8",
   "metadata": {},
   "source": [
    "문자열 포매팅의 경우 1번 방법은 이제 쓰지 않는다.\n",
    "str에서 제공하는 format 함수 활용.\n",
    "3.6부터는 f 포매팅을 사용."
   ]
  },
  {
   "cell_type": "code",
   "execution_count": 47,
   "id": "5323bc48-fa54-4796-abe6-08fdcef8bba3",
   "metadata": {},
   "outputs": [
    {
     "data": {
      "text/plain": [
       "str"
      ]
     },
     "execution_count": 47,
     "metadata": {},
     "output_type": "execute_result"
    }
   ],
   "source": [
    "type(\"I eat apples\")"
   ]
  },
  {
   "cell_type": "code",
   "execution_count": 48,
   "id": "ed36dd07-a88c-449b-a229-28580d041190",
   "metadata": {},
   "outputs": [
    {
     "data": {
      "text/plain": [
       "'I eat 5 apples'"
      ]
     },
     "execution_count": 48,
     "metadata": {},
     "output_type": "execute_result"
    }
   ],
   "source": [
    "\"I eat {} apples\".format(5)"
   ]
  },
  {
   "cell_type": "code",
   "execution_count": 49,
   "id": "7cab0e7e-5bad-4dd8-9893-63e0d5d75c82",
   "metadata": {},
   "outputs": [
    {
     "data": {
      "text/plain": [
       "'I eat end apples 5'"
      ]
     },
     "execution_count": 49,
     "metadata": {},
     "output_type": "execute_result"
    }
   ],
   "source": [
    "\"I eat {1} apples {0}\".format(5, \"end\")"
   ]
  },
  {
   "cell_type": "raw",
   "id": "a88e9537-55bd-4ece-8594-a4e6b783e1ac",
   "metadata": {},
   "source": [
    "1번 자리에 있는 걸 넣는다. 0번 자리에 있는 걸 넣는다. 그래서 end가 먼저 나옴."
   ]
  },
  {
   "cell_type": "code",
   "execution_count": 50,
   "id": "03ce9e87-dcf0-4514-8ca7-cb338c14703a",
   "metadata": {},
   "outputs": [
    {
     "data": {
      "text/plain": [
       "'I eat end apples 5'"
      ]
     },
     "execution_count": 50,
     "metadata": {},
     "output_type": "execute_result"
    }
   ],
   "source": [
    "a = \"I eat {1} apples {0}\"\n",
    "a.format(5, \"end\")"
   ]
  },
  {
   "cell_type": "raw",
   "id": "ff1d9635-0c26-4841-92ab-5096ae43d0ef",
   "metadata": {},
   "source": [
    "format은 a.format이 가능. a가 str형식이라서 가능."
   ]
  },
  {
   "cell_type": "code",
   "execution_count": 52,
   "id": "7f82b18a-c371-458b-ac42-87e1e7bcac60",
   "metadata": {},
   "outputs": [
    {
     "data": {
      "text/plain": [
       "'hi        '"
      ]
     },
     "execution_count": 52,
     "metadata": {},
     "output_type": "execute_result"
    }
   ],
   "source": [
    "\"{0:<10}\".format(\"hi\")"
   ]
  },
  {
   "cell_type": "code",
   "execution_count": 53,
   "id": "55adb555-1797-468c-9283-1e8c603fb041",
   "metadata": {},
   "outputs": [
    {
     "data": {
      "text/plain": [
       "'        hi'"
      ]
     },
     "execution_count": 53,
     "metadata": {},
     "output_type": "execute_result"
    }
   ],
   "source": [
    "\"{0:>10}\".format(\"hi\")"
   ]
  },
  {
   "cell_type": "code",
   "execution_count": 55,
   "id": "1e26aaf1-2f4d-4c75-a88e-d5ffdd08dee3",
   "metadata": {},
   "outputs": [
    {
     "data": {
      "text/plain": [
       "'    hi    '"
      ]
     },
     "execution_count": 55,
     "metadata": {},
     "output_type": "execute_result"
    }
   ],
   "source": [
    "\"{0:^10}\".format(\"hi\")"
   ]
  },
  {
   "cell_type": "code",
   "execution_count": 56,
   "id": "565e99f3-bf61-4ebb-8b86-c973710992fa",
   "metadata": {},
   "outputs": [
    {
     "data": {
      "text/plain": [
       "'I eat 5555.00 apples'"
      ]
     },
     "execution_count": 56,
     "metadata": {},
     "output_type": "execute_result"
    }
   ],
   "source": [
    "a = \"I eat {:.2f} apples\"\n",
    "a.format(5555)"
   ]
  },
  {
   "cell_type": "code",
   "execution_count": 57,
   "id": "4d872c6e-efbe-4cca-b144-c7cfacb9e540",
   "metadata": {},
   "outputs": [
    {
     "data": {
      "text/plain": [
       "'I eat 555,555 apples'"
      ]
     },
     "execution_count": 57,
     "metadata": {},
     "output_type": "execute_result"
    }
   ],
   "source": [
    "a = \"I eat {:,} apples\"\n",
    "a.format(555555)"
   ]
  },
  {
   "cell_type": "code",
   "execution_count": 59,
   "id": "a2e086f6-f2df-49e1-982d-3a34f94ef6d9",
   "metadata": {},
   "outputs": [
    {
     "data": {
      "text/plain": [
       "'3.11.7 | packaged by Anaconda, Inc. | (main, Dec 15 2023, 18:05:47) [MSC v.1916 64 bit (AMD64)]'"
      ]
     },
     "execution_count": 59,
     "metadata": {},
     "output_type": "execute_result"
    }
   ],
   "source": [
    "import sys\n",
    "sys.version"
   ]
  },
  {
   "cell_type": "code",
   "execution_count": 62,
   "id": "edb3f1e2-2277-42bc-a31d-43ddd4efc5f6",
   "metadata": {},
   "outputs": [
    {
     "data": {
      "text/plain": [
       "'나의 이름은 홍길동입니다. 30,000,000살입니다.'"
      ]
     },
     "execution_count": 62,
     "metadata": {},
     "output_type": "execute_result"
    }
   ],
   "source": [
    "name = \"홍길동\"\n",
    "age = 30000000\n",
    "f'나의 이름은 {name}입니다. {age:,}살입니다.'"
   ]
  },
  {
   "cell_type": "raw",
   "id": "8a1744ea-17df-4849-9d00-67234b72a11f",
   "metadata": {},
   "source": [
    "f는 바로 넣을 수 있다. 변수명을 넣어서."
   ]
  },
  {
   "cell_type": "code",
   "execution_count": 63,
   "id": "0b442b9f-3955-424a-b267-fac6f1d43333",
   "metadata": {
    "jupyter": {
     "source_hidden": true
    }
   },
   "outputs": [
    {
     "data": {
      "text/plain": [
       "'a,b,c,d'"
      ]
     },
     "execution_count": 63,
     "metadata": {},
     "output_type": "execute_result"
    }
   ],
   "source": [
    "\",\".join('abcd')"
   ]
  },
  {
   "cell_type": "code",
   "execution_count": 64,
   "id": "e4832b29-e2c1-4813-ab79-e0647ba01acb",
   "metadata": {},
   "outputs": [
    {
     "data": {
      "text/plain": [
       "2"
      ]
     },
     "execution_count": 64,
     "metadata": {},
     "output_type": "execute_result"
    }
   ],
   "source": [
    "a = \"hobby\"\n",
    "a.count('b')"
   ]
  },
  {
   "cell_type": "code",
   "execution_count": 65,
   "id": "c7191f28-485f-4894-a3d1-f59107426fed",
   "metadata": {},
   "outputs": [
    {
     "data": {
      "text/plain": [
       "14"
      ]
     },
     "execution_count": 65,
     "metadata": {},
     "output_type": "execute_result"
    }
   ],
   "source": [
    "a = \"Python is the best choice\"\n",
    "a.find('b')"
   ]
  },
  {
   "cell_type": "raw",
   "id": "312033aa-23d3-49e7-b589-cd03d6c78e19",
   "metadata": {},
   "source": [
    "find와 index의 역할은 같지만 index는 오류메시지를 표시해주므로 이것이 필요할 경우 index를 사용할 것."
   ]
  },
  {
   "cell_type": "code",
   "execution_count": 66,
   "id": "ad8f2b93-fbf0-4c49-8738-c0531b5559f5",
   "metadata": {},
   "outputs": [
    {
     "data": {
      "text/plain": [
       "'a,b,c,d'"
      ]
     },
     "execution_count": 66,
     "metadata": {},
     "output_type": "execute_result"
    }
   ],
   "source": [
    "\",\".join(['a', 'b', 'c', 'd'])"
   ]
  },
  {
   "cell_type": "raw",
   "id": "2c06dbf5-6195-468e-a16f-22785423a9a1",
   "metadata": {},
   "source": [
    "분리되어있던 문자열들을 하나로 합침."
   ]
  },
  {
   "cell_type": "code",
   "execution_count": 68,
   "id": "50e397c9-ddae-46b5-b534-60c31780d492",
   "metadata": {},
   "outputs": [
    {
     "data": {
      "text/plain": [
       "['a', 'b', 'c', 'd']"
      ]
     },
     "execution_count": 68,
     "metadata": {},
     "output_type": "execute_result"
    }
   ],
   "source": [
    "'a,b,c,d'.split(',')"
   ]
  },
  {
   "cell_type": "raw",
   "id": "4e24c5e2-e337-4a99-bcab-81db0ef54f01",
   "metadata": {},
   "source": [
    "합쳐져있던 문자열을 ,를 기준으로 나눔."
   ]
  },
  {
   "cell_type": "markdown",
   "id": "6ceaa0fc-60a1-471a-a219-966afc401704",
   "metadata": {},
   "source": [
    "## 3. 리스트 자료형"
   ]
  },
  {
   "cell_type": "raw",
   "id": "ecd931eb-3f21-4040-94b6-12403bada984",
   "metadata": {},
   "source": [
    "index는 순서 O.\n",
    "key는 순서 X. 따라서 중복도 X."
   ]
  },
  {
   "cell_type": "raw",
   "id": "259f0bcf-dd4a-47f5-bc36-8b6570d74c7f",
   "metadata": {},
   "source": [
    "대괄호로 엮으면 리스트. ','로 구분.\n",
    "파이썬은 들여쓰기에도 의미를 부여함. 쥬피터에서는 문제없지만 다른 프로그램에서는 오류가 날 수 있다."
   ]
  },
  {
   "cell_type": "code",
   "execution_count": 2,
   "id": "c5a774e8-f769-4121-a5d8-6d7a47ad2b01",
   "metadata": {},
   "outputs": [
    {
     "data": {
      "text/plain": [
       "list"
      ]
     },
     "execution_count": 2,
     "metadata": {},
     "output_type": "execute_result"
    }
   ],
   "source": [
    "a = []\n",
    "type(a)"
   ]
  },
  {
   "cell_type": "code",
   "execution_count": 5,
   "id": "a2c91dbe-dcb3-4e2b-8cd1-67f16bd43c1f",
   "metadata": {},
   "outputs": [],
   "source": [
    " b = [1, 2, 3]\n",
    "c = ['Life', 'is', 'too', 'short']\n",
    "d = [1, 2, 'Life', 'is']\n",
    "e = [1, 2, ['Life', 'is']]"
   ]
  },
  {
   "cell_type": "code",
   "execution_count": null,
   "id": "218d90ff-7482-4133-944f-bbe297197443",
   "metadata": {},
   "outputs": [],
   "source": []
  }
 ],
 "metadata": {
  "kernelspec": {
   "display_name": "Python 3 (ipykernel)",
   "language": "python",
   "name": "python3"
  },
  "language_info": {
   "codemirror_mode": {
    "name": "ipython",
    "version": 3
   },
   "file_extension": ".py",
   "mimetype": "text/x-python",
   "name": "python",
   "nbconvert_exporter": "python",
   "pygments_lexer": "ipython3",
   "version": "3.11.7"
  }
 },
 "nbformat": 4,
 "nbformat_minor": 5
}
