{
 "cells": [
  {
   "cell_type": "markdown",
   "id": "b423599b-9f97-4b3a-8d3f-de5b7629dcca",
   "metadata": {},
   "source": [
    "## 1. if문"
   ]
  },
  {
   "cell_type": "raw",
   "id": "d0f24319-05bd-4c98-a8d8-b59daf1c9d81",
   "metadata": {},
   "source": [
    "파이썬에서는 들여쓰기 줄을 잘 맞춰야한다."
   ]
  },
  {
   "cell_type": "raw",
   "id": "02f7da2a-edc6-491a-a145-c19beec1dad7",
   "metadata": {},
   "source": [
    "비교 연산자\n",
    "x<y 작다\n",
    "x>y 크다\n",
    "x==y 같다\n",
    "x!=y 같지 않다\n",
    "x>=y 크거나 같다\n",
    "x<=y 작거나 같다\n",
    "\n",
    "x or y 둘 중 하나만 참이어도 참\n",
    "x and y 둘다 참이어야 참\n",
    "not x x가 거짓이면 참\n",
    "\n",
    "x in list   x not in list\n",
    "x in tuple  x not in tuple\n",
    "x in str    x not in str"
   ]
  },
  {
   "cell_type": "raw",
   "id": "39aaec76-3007-4e30-b681-9ccfa2bc9da3",
   "metadata": {},
   "source": [
    "조건문에서 아무 일도 하지 않게 설정하고 싶다면\n",
    "pass를 사용."
   ]
  },
  {
   "cell_type": "raw",
   "id": "f3645854-9fcd-4dc7-b72b-93a8ad634797",
   "metadata": {},
   "source": [
    "조건부 표현식\n",
    "변수 = 조건문이_참인_경우의_값 if 조건문 else 조건문이_거짓인_경우의_값\n",
    "message = \"success\" if score >= 60 else \"failure\"\n",
    "score가 60이상인 경우 success라고 표시\n",
    "아닐 경우 failure이라고 표시"
   ]
  },
  {
   "cell_type": "markdown",
   "id": "c5ed202a-8830-4b1b-b6d1-324b9e46e800",
   "metadata": {},
   "source": [
    "## 2. while문"
   ]
  },
  {
   "cell_type": "raw",
   "id": "408641f7-b72b-4554-b33d-45ccb6abb5f1",
   "metadata": {},
   "source": [
    "조건문이 참인 동안 while문에 속한 문장들이 반복해서 수행된다."
   ]
  },
  {
   "cell_type": "raw",
   "id": "9e90465e-298c-4111-b2b5-2b4708103b0d",
   "metadata": {},
   "source": [
    "break를 만나면 가장 가까운 while문이 종료됨. \n",
    "continue를 만나면 하던 것까지 하고 while문의 다음 것을 이어서 계속한다."
   ]
  },
  {
   "cell_type": "raw",
   "id": "69096cc0-710c-4049-b349-298378734b36",
   "metadata": {},
   "source": [
    "사칙 연산자가 먼저 처리되고 비교 연산자가 이후에 처리됨. \n",
    "우선순위: 사칙 연산자 > 비교 연산자"
   ]
  },
  {
   "cell_type": "raw",
   "id": "adcc375f-e99c-4a71-99f1-7efec53059cd",
   "metadata": {},
   "source": [
    "ctrl-c를 누르면 빠져나옴. or 프로그램 닫기."
   ]
  },
  {
   "cell_type": "markdown",
   "id": "d8396fa0-045a-462b-a32f-b09a2e01ffc3",
   "metadata": {},
   "source": [
    "## 3. for문"
   ]
  },
  {
   "cell_type": "raw",
   "id": "75b5d622-fb19-46b0-915d-123cbe095dc5",
   "metadata": {},
   "source": [
    "for 변수 in 리스트(또는 튜플, 문자열):\n",
    "    수행할_문장1\n",
    "    수행할_문장2\n",
    "    ..."
   ]
  },
  {
   "cell_type": "raw",
   "id": "e79059dd-1cfb-4287-8c03-ee5263934c34",
   "metadata": {},
   "source": [
    "continue와 break 쓸 수 있다"
   ]
  },
  {
   "cell_type": "raw",
   "id": "2a83080c-e134-4378-b423-d3461508aeb6",
   "metadata": {},
   "source": [
    "range 함수를 이용해서 반복 가능\n",
    "range(4)는 0,1,2,3 \n",
    "4까지는 나오지 않음.\n",
    "range(0, 10) 시작값이 0 종료값이 10\n",
    "range(0, 10, 2) 시작값이 0 종료값이 10 간격값이 2"
   ]
  },
  {
   "cell_type": "code",
   "execution_count": null,
   "id": "18828b7b-64a3-4fdf-9a30-809cf5317617",
   "metadata": {},
   "outputs": [],
   "source": []
  }
 ],
 "metadata": {
  "kernelspec": {
   "display_name": "Python 3 (ipykernel)",
   "language": "python",
   "name": "python3"
  },
  "language_info": {
   "codemirror_mode": {
    "name": "ipython",
    "version": 3
   },
   "file_extension": ".py",
   "mimetype": "text/x-python",
   "name": "python",
   "nbconvert_exporter": "python",
   "pygments_lexer": "ipython3",
   "version": "3.11.7"
  }
 },
 "nbformat": 4,
 "nbformat_minor": 5
}
