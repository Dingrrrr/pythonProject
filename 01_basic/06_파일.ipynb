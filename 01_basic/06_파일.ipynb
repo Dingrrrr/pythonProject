{
 "cells": [
  {
   "cell_type": "code",
   "execution_count": 14,
   "id": "3872ee8f-2466-45cb-a1d9-f9a81ca98392",
   "metadata": {},
   "outputs": [],
   "source": [
    "f = open('test.txt', 'w', encoding='utf8')"
   ]
  },
  {
   "cell_type": "code",
   "execution_count": 15,
   "id": "d5816ed0-9b45-4701-870d-20424e9a67f7",
   "metadata": {},
   "outputs": [
    {
     "data": {
      "text/plain": [
       "3"
      ]
     },
     "execution_count": 15,
     "metadata": {},
     "output_type": "execute_result"
    }
   ],
   "source": [
    "f.write(\"테스트\")"
   ]
  },
  {
   "cell_type": "code",
   "execution_count": 16,
   "id": "adf5df05-978e-4805-b1b6-996d77d2206a",
   "metadata": {},
   "outputs": [],
   "source": [
    "f.close()"
   ]
  },
  {
   "cell_type": "raw",
   "id": "003258b5-677e-4d75-9d45-66d7f3b6b168",
   "metadata": {},
   "source": [
    "인코딩은 중요하다. 우리나라에서 만든 프로그램은 한글이 포함되어있을 가능성이 높다.\n",
    "컴퓨터를 만든 건 미국 쪽이고 영어를 쓰는데 컴퓨터는 0과 1로 구분하고 비트를 씀. 주로 바이트를 쓰니까. \n",
    "8bit = 1byte \n",
    "2^8=256 0~255까지 표시됨.\n",
    "한글의 경우 표시해야할 문자가 많았기에 현재는 CP949를 사용 중.\n",
    "python은 UTF8을 기본으로 쓰기에 쥬피터 앱에서 쓰려면 UTF8로 바꿔줘야함."
   ]
  },
  {
   "cell_type": "raw",
   "id": "f9a525a5-d1ea-489b-8480-09c329d580d0",
   "metadata": {},
   "source": [
    "열 때 파일명, 읽을 건지, 수정할 건지, 인코딩"
   ]
  },
  {
   "cell_type": "raw",
   "id": "210f351d-df38-4392-aec8-0fa42a1cc240",
   "metadata": {},
   "source": [
    "pickle과 json. \n",
    "파이썬 내부에서는 pickle을 써도 편함. \n",
    "단지 외부에서는 pickle을 쓸 수 없음. 이때 쓰는 것 중 하나가 json."
   ]
  },
  {
   "cell_type": "code",
   "execution_count": null,
   "id": "0937991b-7071-40b6-84e7-f0c94a4ab944",
   "metadata": {},
   "outputs": [],
   "source": []
  }
 ],
 "metadata": {
  "kernelspec": {
   "display_name": "Python 3 (ipykernel)",
   "language": "python",
   "name": "python3"
  },
  "language_info": {
   "codemirror_mode": {
    "name": "ipython",
    "version": 3
   },
   "file_extension": ".py",
   "mimetype": "text/x-python",
   "name": "python",
   "nbconvert_exporter": "python",
   "pygments_lexer": "ipython3",
   "version": "3.11.7"
  }
 },
 "nbformat": 4,
 "nbformat_minor": 5
}
