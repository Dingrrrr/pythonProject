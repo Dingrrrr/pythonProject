{
 "cells": [
  {
   "cell_type": "markdown",
   "id": "56d5de53-c26b-4c05-a063-6738041b30d2",
   "metadata": {},
   "source": [
    "# 1. 기본 데이터 타입 익히기"
   ]
  },
  {
   "cell_type": "markdown",
   "id": "8c482983-fad8-48b6-9119-ece417afa95b",
   "metadata": {},
   "source": [
    "## 1. 숫자형"
   ]
  },
  {
   "cell_type": "code",
   "execution_count": 4,
   "id": "bdd63c53-76be-4f1e-8f01-806e570d90b7",
   "metadata": {},
   "outputs": [
    {
     "name": "stdout",
     "output_type": "stream",
     "text": [
      "123\n"
     ]
    }
   ],
   "source": [
    "a = 123\n",
    "print(a)"
   ]
  },
  {
   "cell_type": "code",
   "execution_count": 7,
   "id": "9e5d7996-766c-4b92-a8ad-fa2a268db5f9",
   "metadata": {},
   "outputs": [
    {
     "name": "stdout",
     "output_type": "stream",
     "text": [
      "123\n",
      "345\n"
     ]
    }
   ],
   "source": [
    "b = 345\n",
    "print(a)\n",
    "print(b)"
   ]
  },
  {
   "cell_type": "code",
   "execution_count": 8,
   "id": "b5e8a651-7f88-4d76-a17d-93aaddae0550",
   "metadata": {},
   "outputs": [
    {
     "data": {
      "text/plain": [
       "1.3"
      ]
     },
     "execution_count": 8,
     "metadata": {},
     "output_type": "execute_result"
    }
   ],
   "source": [
    "c = 1.3\n",
    "c"
   ]
  },
  {
   "cell_type": "code",
   "execution_count": 9,
   "id": "92b10005-fc50-4da8-9cd6-897b493a9bf0",
   "metadata": {},
   "outputs": [
    {
     "name": "stdout",
     "output_type": "stream",
     "text": [
      "<class 'int'>\n"
     ]
    }
   ],
   "source": [
    " print(type(a))"
   ]
  },
  {
   "cell_type": "code",
   "execution_count": 10,
   "id": "0db6f1db-78a1-41a5-8cbb-5d70f3bba672",
   "metadata": {},
   "outputs": [
    {
     "data": {
      "text/plain": [
       "int"
      ]
     },
     "execution_count": 10,
     "metadata": {},
     "output_type": "execute_result"
    }
   ],
   "source": [
    "type(b)"
   ]
  },
  {
   "cell_type": "code",
   "execution_count": 11,
   "id": "80fe1217-9a0b-4d9a-9db3-c160f2217515",
   "metadata": {},
   "outputs": [
    {
     "name": "stdout",
     "output_type": "stream",
     "text": [
      "<class 'float'>\n"
     ]
    }
   ],
   "source": [
    "print(type(c))"
   ]
  },
  {
   "cell_type": "code",
   "execution_count": 12,
   "id": "60a94a0f-1a87-4be0-b75a-31f69b5bffe0",
   "metadata": {},
   "outputs": [
    {
     "data": {
      "text/plain": [
       "float"
      ]
     },
     "execution_count": 12,
     "metadata": {},
     "output_type": "execute_result"
    }
   ],
   "source": [
    "type(c)"
   ]
  },
  {
   "cell_type": "code",
   "execution_count": 14,
   "id": "b1c6a760-ca23-4253-b387-68979ff8fd1d",
   "metadata": {},
   "outputs": [
    {
     "data": {
      "text/plain": [
       "127"
      ]
     },
     "execution_count": 14,
     "metadata": {},
     "output_type": "execute_result"
    }
   ],
   "source": [
    "d = 0o177\n",
    "d"
   ]
  },
  {
   "cell_type": "code",
   "execution_count": 15,
   "id": "b4c2537b-129b-461c-bd7c-b54c3c8e3ce0",
   "metadata": {},
   "outputs": [
    {
     "data": {
      "text/plain": [
       "int"
      ]
     },
     "execution_count": 15,
     "metadata": {},
     "output_type": "execute_result"
    }
   ],
   "source": [
    "type(d)"
   ]
  },
  {
   "cell_type": "code",
   "execution_count": 16,
   "id": "bfbcf777-1479-4d40-9646-d3a41c21671c",
   "metadata": {},
   "outputs": [
    {
     "data": {
      "text/plain": [
       "255"
      ]
     },
     "execution_count": 16,
     "metadata": {},
     "output_type": "execute_result"
    }
   ],
   "source": [
    "e = 0xff\n",
    "e"
   ]
  },
  {
   "cell_type": "code",
   "execution_count": 17,
   "id": "4af03223-c7c3-41bb-9374-bd46b83b562d",
   "metadata": {},
   "outputs": [
    {
     "name": "stdin",
     "output_type": "stream",
     "text": [
      "숫자를 입력하세요 >> 1111\n"
     ]
    },
    {
     "name": "stdout",
     "output_type": "stream",
     "text": [
      "1111\n",
      "<class 'str'>\n"
     ]
    }
   ],
   "source": [
    "data = input('숫자를 입력하세요 >>')\n",
    "print(data)\n",
    "print(type(data))"
   ]
  },
  {
   "cell_type": "code",
   "execution_count": 18,
   "id": "6f2a9fb9-7013-4e34-bdf3-e145e52be79b",
   "metadata": {},
   "outputs": [
    {
     "name": "stdout",
     "output_type": "stream",
     "text": [
      "<class 'int'>\n"
     ]
    }
   ],
   "source": [
    "data = int(data)\n",
    "print(type(data))"
   ]
  },
  {
   "cell_type": "raw",
   "id": "56b5cd1e-1fcd-4fe0-ad6e-dec06531aef9",
   "metadata": {},
   "source": [
    "quiz> 박스당 3개씩 들어가는 과일이 있다.\n",
    "전체 과일의 갯수를 입력받아 몇 박스 몇 개가 남는지 출력하세요."
   ]
  },
  {
   "cell_type": "code",
   "execution_count": 26,
   "id": "edd369c2-6563-4ca4-896e-98fab148df31",
   "metadata": {},
   "outputs": [
    {
     "name": "stdin",
     "output_type": "stream",
     "text": [
      "전체 과일 갯수를 입력하세요 >> 23\n"
     ]
    },
    {
     "name": "stdout",
     "output_type": "stream",
     "text": [
      "7박스\n",
      "2개\n"
     ]
    }
   ],
   "source": [
    "all = input('전체 과일 갯수를 입력하세요 >>')\n",
    "all = int(all)\n",
    "box = all // 3\n",
    "fruit = all % 3\n",
    "print(str(box) + '박스')\n",
    "print(str(fruit) + '개')"
   ]
  },
  {
   "cell_type": "code",
   "execution_count": 27,
   "id": "75e01d31-188d-409d-9306-321729c6819f",
   "metadata": {
    "scrolled": true
   },
   "outputs": [
    {
     "name": "stdin",
     "output_type": "stream",
     "text": [
      "갯수를 입력하세요 >>  8\n"
     ]
    },
    {
     "name": "stdout",
     "output_type": "stream",
     "text": [
      "총  8 개- 2 박스 2 개\n"
     ]
    }
   ],
   "source": [
    "a = 3\n",
    "count = int(input(\"갯수를 입력하세요 >> \"))\n",
    "print('총 ',count,'개-',count//a,'박스',count%a,'개')"
   ]
  },
  {
   "cell_type": "markdown",
   "id": "0c08a98d-c07c-4a37-8578-834e906bb7bd",
   "metadata": {},
   "source": [
    "## 2. 문자열 자료형"
   ]
  },
  {
   "cell_type": "code",
   "execution_count": 3,
   "id": "dc86101b-5742-4cb9-bef5-bf25c915d94a",
   "metadata": {},
   "outputs": [],
   "source": [
    "food = \"python's favorite food is per1\""
   ]
  },
  {
   "cell_type": "code",
   "execution_count": 9,
   "id": "c5525571-915a-4e08-bae8-893847ca2039",
   "metadata": {},
   "outputs": [
    {
     "name": "stdout",
     "output_type": "stream",
     "text": [
      "python's favorite \n",
      "food is perl\n"
     ]
    }
   ],
   "source": [
    "food = \"python's favorite \\nfood is perl\"\n",
    "print(food)"
   ]
  },
  {
   "cell_type": "code",
   "execution_count": 12,
   "id": "cb0a4ea8-5e63-483c-aca8-2259ff3f1ebc",
   "metadata": {},
   "outputs": [
    {
     "name": "stdout",
     "output_type": "stream",
     "text": [
      "python's favorite food is per1\n",
      "next\n",
      "~~\n"
     ]
    }
   ],
   "source": [
    "food = \"\"\"python's favorite food is per1\n",
    "next\n",
    "~~\"\"\"\n",
    "print(food)"
   ]
  },
  {
   "cell_type": "code",
   "execution_count": 16,
   "id": "e24c54a5-e0ca-4cd7-a8db-c5bff4067003",
   "metadata": {},
   "outputs": [
    {
     "data": {
      "text/plain": [
       "'Python is fun!1'"
      ]
     },
     "execution_count": 16,
     "metadata": {},
     "output_type": "execute_result"
    }
   ],
   "source": [
    "head = \"Python\"\n",
    "tail = \" is fun!\"\n",
    "head + tail + str(1)"
   ]
  },
  {
   "cell_type": "code",
   "execution_count": 20,
   "id": "66ec9223-2e9d-4194-8926-d901dca402ad",
   "metadata": {},
   "outputs": [
    {
     "data": {
      "text/plain": [
       "'pythonpython'"
      ]
     },
     "execution_count": 20,
     "metadata": {},
     "output_type": "execute_result"
    }
   ],
   "source": [
    "a = \"python\"\n",
    "a * 2"
   ]
  },
  {
   "cell_type": "code",
   "execution_count": 21,
   "id": "14c54532-dbfc-457f-afbd-a501419ed9be",
   "metadata": {},
   "outputs": [
    {
     "name": "stdout",
     "output_type": "stream",
     "text": [
      "==================================================\n",
      "My Program\n",
      "==================================================\n"
     ]
    }
   ],
   "source": [
    "print(\"=\" * 50)\n",
    "print(\"My Program\")\n",
    "print(\"=\" * 50)"
   ]
  },
  {
   "cell_type": "code",
   "execution_count": 23,
   "id": "863ad8f9-e308-43e8-aba8-457eb29d18cb",
   "metadata": {},
   "outputs": [
    {
     "data": {
      "text/plain": [
       "17"
      ]
     },
     "execution_count": 23,
     "metadata": {},
     "output_type": "execute_result"
    }
   ],
   "source": [
    "a = \"Life is too short\"\n",
    "len(a)"
   ]
  },
  {
   "cell_type": "raw",
   "id": "65794152-0850-4fb9-9cf5-50872240ec03",
   "metadata": {},
   "source": [
    "print, len은 파이썬의 기본 내장 함수. \n",
    "import의 경우 기본값 이외의 함수를 가져올 때 사용."
   ]
  },
  {
   "cell_type": "code",
   "execution_count": 24,
   "id": "77209bab-aa8d-4f63-84c8-2022d19231e7",
   "metadata": {},
   "outputs": [
    {
     "data": {
      "text/plain": [
       "'e'"
      ]
     },
     "execution_count": 24,
     "metadata": {},
     "output_type": "execute_result"
    }
   ],
   "source": [
    "a = \"Life is too short, You need Python\"\n",
    "a[3]"
   ]
  },
  {
   "cell_type": "code",
   "execution_count": 25,
   "id": "3fef2c0e-ed36-4bbc-975e-363563c05b45",
   "metadata": {},
   "outputs": [
    {
     "data": {
      "text/plain": [
       "'n'"
      ]
     },
     "execution_count": 25,
     "metadata": {},
     "output_type": "execute_result"
    }
   ],
   "source": [
    "a[-1]"
   ]
  },
  {
   "cell_type": "code",
   "execution_count": 26,
   "id": "10ad99d5-9703-4d14-817e-7cbdd148a4bf",
   "metadata": {},
   "outputs": [
    {
     "data": {
      "text/plain": [
       "'Life'"
      ]
     },
     "execution_count": 26,
     "metadata": {},
     "output_type": "execute_result"
    }
   ],
   "source": [
    "a[0:4]"
   ]
  },
  {
   "cell_type": "raw",
   "id": "f8ebff86-7731-4124-b39f-e8e986b99318",
   "metadata": {},
   "source": [
    "a[0:4]면 4의 앞까지만 출력. 근데 이건 라이브러리에 따라서 다르다. 앞의 값, 뒤의 값도 포함시키기도 함. 기본적으로는 뒤의 값은 뺀다. api를 확인-"
   ]
  },
  {
   "cell_type": "code",
   "execution_count": 29,
   "id": "24fa6419-c1f2-4882-9dd9-a917505d91ec",
   "metadata": {},
   "outputs": [
    {
     "data": {
      "text/plain": [
       "'Life is to'"
      ]
     },
     "execution_count": 29,
     "metadata": {},
     "output_type": "execute_result"
    }
   ],
   "source": [
    "a[:10]"
   ]
  },
  {
   "cell_type": "code",
   "execution_count": 30,
   "id": "8b037c4d-31eb-4cd9-86f3-473999795c03",
   "metadata": {},
   "outputs": [
    {
     "data": {
      "text/plain": [
       "'You need'"
      ]
     },
     "execution_count": 30,
     "metadata": {},
     "output_type": "execute_result"
    }
   ],
   "source": [
    "a[19:-7]"
   ]
  },
  {
   "cell_type": "raw",
   "id": "9712424b-5dd7-413d-833b-26a6a75b6857",
   "metadata": {},
   "source": [
    "a[19]부터 a[-8]까지를 의미."
   ]
  },
  {
   "cell_type": "raw",
   "id": "b8fe0af0-acf1-4e91-8241-a59b267d6c06",
   "metadata": {},
   "source": [
    "quiz > 이메일 주소를 입력받아서 .com으로 끝나는지 내용을 출력해보세요."
   ]
  },
  {
   "cell_type": "code",
   "execution_count": 42,
   "id": "4502623e-1731-47ee-8a29-ef9600ab4e3f",
   "metadata": {},
   "outputs": [
    {
     "name": "stdin",
     "output_type": "stream",
     "text": [
      "이메일 주소를 입력하세요. >>  hello@naver.com\n"
     ]
    },
    {
     "name": "stdout",
     "output_type": "stream",
     "text": [
      "hello@naver.com\n",
      ".com\n"
     ]
    }
   ],
   "source": [
    "email = str(input(\"이메일 주소를 입력하세요. >> \"))\n",
    "e = len(email)\n",
    "com = email[e-4:]\n",
    "print(email)\n",
    "print(com)\n"
   ]
  },
  {
   "cell_type": "code",
   "execution_count": 46,
   "id": "5bce972e-c2d8-4ddb-9280-be419eeb4a64",
   "metadata": {},
   "outputs": [
    {
     "name": "stdin",
     "output_type": "stream",
     "text": [
      "이메일 주소 입력하세요>>>  hello@naver.com\n"
     ]
    },
    {
     "name": "stdout",
     "output_type": "stream",
     "text": [
      ".com\n"
     ]
    }
   ],
   "source": [
    "email = input(\"이메일 주소 입력하세요>>> \")\n",
    "print(email[-4:])"
   ]
  },
  {
   "cell_type": "raw",
   "id": "46ccfa3a-8788-48fd-b6ba-fbb6a40e52b8",
   "metadata": {},
   "source": [
    "문자열 포매팅의 경우 1번 방법은 이제 쓰지 않는다.\n",
    "str에서 제공하는 format 함수 활용.\n",
    "3.6부터는 f 포매팅을 사용."
   ]
  },
  {
   "cell_type": "code",
   "execution_count": 47,
   "id": "5323bc48-fa54-4796-abe6-08fdcef8bba3",
   "metadata": {},
   "outputs": [
    {
     "data": {
      "text/plain": [
       "str"
      ]
     },
     "execution_count": 47,
     "metadata": {},
     "output_type": "execute_result"
    }
   ],
   "source": [
    "type(\"I eat apples\")"
   ]
  },
  {
   "cell_type": "code",
   "execution_count": 48,
   "id": "ed36dd07-a88c-449b-a229-28580d041190",
   "metadata": {},
   "outputs": [
    {
     "data": {
      "text/plain": [
       "'I eat 5 apples'"
      ]
     },
     "execution_count": 48,
     "metadata": {},
     "output_type": "execute_result"
    }
   ],
   "source": [
    "\"I eat {} apples\".format(5)"
   ]
  },
  {
   "cell_type": "code",
   "execution_count": 49,
   "id": "7cab0e7e-5bad-4dd8-9893-63e0d5d75c82",
   "metadata": {},
   "outputs": [
    {
     "data": {
      "text/plain": [
       "'I eat end apples 5'"
      ]
     },
     "execution_count": 49,
     "metadata": {},
     "output_type": "execute_result"
    }
   ],
   "source": [
    "\"I eat {1} apples {0}\".format(5, \"end\")"
   ]
  },
  {
   "cell_type": "raw",
   "id": "a88e9537-55bd-4ece-8594-a4e6b783e1ac",
   "metadata": {},
   "source": [
    "1번 자리에 있는 걸 넣는다. 0번 자리에 있는 걸 넣는다. 그래서 end가 먼저 나옴."
   ]
  },
  {
   "cell_type": "code",
   "execution_count": 50,
   "id": "03ce9e87-dcf0-4514-8ca7-cb338c14703a",
   "metadata": {},
   "outputs": [
    {
     "data": {
      "text/plain": [
       "'I eat end apples 5'"
      ]
     },
     "execution_count": 50,
     "metadata": {},
     "output_type": "execute_result"
    }
   ],
   "source": [
    "a = \"I eat {1} apples {0}\"\n",
    "a.format(5, \"end\")"
   ]
  },
  {
   "cell_type": "raw",
   "id": "ff1d9635-0c26-4841-92ab-5096ae43d0ef",
   "metadata": {},
   "source": [
    "format은 a.format이 가능. a가 str형식이라서 가능."
   ]
  },
  {
   "cell_type": "code",
   "execution_count": 52,
   "id": "7f82b18a-c371-458b-ac42-87e1e7bcac60",
   "metadata": {},
   "outputs": [
    {
     "data": {
      "text/plain": [
       "'hi        '"
      ]
     },
     "execution_count": 52,
     "metadata": {},
     "output_type": "execute_result"
    }
   ],
   "source": [
    "\"{0:<10}\".format(\"hi\")"
   ]
  },
  {
   "cell_type": "code",
   "execution_count": 53,
   "id": "55adb555-1797-468c-9283-1e8c603fb041",
   "metadata": {},
   "outputs": [
    {
     "data": {
      "text/plain": [
       "'        hi'"
      ]
     },
     "execution_count": 53,
     "metadata": {},
     "output_type": "execute_result"
    }
   ],
   "source": [
    "\"{0:>10}\".format(\"hi\")"
   ]
  },
  {
   "cell_type": "code",
   "execution_count": 55,
   "id": "1e26aaf1-2f4d-4c75-a88e-d5ffdd08dee3",
   "metadata": {},
   "outputs": [
    {
     "data": {
      "text/plain": [
       "'    hi    '"
      ]
     },
     "execution_count": 55,
     "metadata": {},
     "output_type": "execute_result"
    }
   ],
   "source": [
    "\"{0:^10}\".format(\"hi\")"
   ]
  },
  {
   "cell_type": "code",
   "execution_count": 56,
   "id": "565e99f3-bf61-4ebb-8b86-c973710992fa",
   "metadata": {},
   "outputs": [
    {
     "data": {
      "text/plain": [
       "'I eat 5555.00 apples'"
      ]
     },
     "execution_count": 56,
     "metadata": {},
     "output_type": "execute_result"
    }
   ],
   "source": [
    "a = \"I eat {:.2f} apples\"\n",
    "a.format(5555)"
   ]
  },
  {
   "cell_type": "code",
   "execution_count": 57,
   "id": "4d872c6e-efbe-4cca-b144-c7cfacb9e540",
   "metadata": {},
   "outputs": [
    {
     "data": {
      "text/plain": [
       "'I eat 555,555 apples'"
      ]
     },
     "execution_count": 57,
     "metadata": {},
     "output_type": "execute_result"
    }
   ],
   "source": [
    "a = \"I eat {:,} apples\"\n",
    "a.format(555555)"
   ]
  },
  {
   "cell_type": "code",
   "execution_count": 59,
   "id": "a2e086f6-f2df-49e1-982d-3a34f94ef6d9",
   "metadata": {},
   "outputs": [
    {
     "data": {
      "text/plain": [
       "'3.11.7 | packaged by Anaconda, Inc. | (main, Dec 15 2023, 18:05:47) [MSC v.1916 64 bit (AMD64)]'"
      ]
     },
     "execution_count": 59,
     "metadata": {},
     "output_type": "execute_result"
    }
   ],
   "source": [
    "import sys\n",
    "sys.version"
   ]
  },
  {
   "cell_type": "code",
   "execution_count": 62,
   "id": "edb3f1e2-2277-42bc-a31d-43ddd4efc5f6",
   "metadata": {},
   "outputs": [
    {
     "data": {
      "text/plain": [
       "'나의 이름은 홍길동입니다. 30,000,000살입니다.'"
      ]
     },
     "execution_count": 62,
     "metadata": {},
     "output_type": "execute_result"
    }
   ],
   "source": [
    "name = \"홍길동\"\n",
    "age = 30000000\n",
    "f'나의 이름은 {name}입니다. {age:,}살입니다.'"
   ]
  },
  {
   "cell_type": "raw",
   "id": "8a1744ea-17df-4849-9d00-67234b72a11f",
   "metadata": {},
   "source": [
    "f는 바로 넣을 수 있다. 변수명을 넣어서."
   ]
  },
  {
   "cell_type": "code",
   "execution_count": 63,
   "id": "0b442b9f-3955-424a-b267-fac6f1d43333",
   "metadata": {
    "jupyter": {
     "source_hidden": true
    }
   },
   "outputs": [
    {
     "data": {
      "text/plain": [
       "'a,b,c,d'"
      ]
     },
     "execution_count": 63,
     "metadata": {},
     "output_type": "execute_result"
    }
   ],
   "source": [
    "\",\".join('abcd')"
   ]
  },
  {
   "cell_type": "code",
   "execution_count": 64,
   "id": "e4832b29-e2c1-4813-ab79-e0647ba01acb",
   "metadata": {},
   "outputs": [
    {
     "data": {
      "text/plain": [
       "2"
      ]
     },
     "execution_count": 64,
     "metadata": {},
     "output_type": "execute_result"
    }
   ],
   "source": [
    "a = \"hobby\"\n",
    "a.count('b')"
   ]
  },
  {
   "cell_type": "code",
   "execution_count": 65,
   "id": "c7191f28-485f-4894-a3d1-f59107426fed",
   "metadata": {},
   "outputs": [
    {
     "data": {
      "text/plain": [
       "14"
      ]
     },
     "execution_count": 65,
     "metadata": {},
     "output_type": "execute_result"
    }
   ],
   "source": [
    "a = \"Python is the best choice\"\n",
    "a.find('b')"
   ]
  },
  {
   "cell_type": "raw",
   "id": "312033aa-23d3-49e7-b589-cd03d6c78e19",
   "metadata": {},
   "source": [
    "find와 index의 역할은 같지만 index는 오류메시지를 표시해주므로 이것이 필요할 경우 index를 사용할 것."
   ]
  },
  {
   "cell_type": "code",
   "execution_count": 66,
   "id": "ad8f2b93-fbf0-4c49-8738-c0531b5559f5",
   "metadata": {},
   "outputs": [
    {
     "data": {
      "text/plain": [
       "'a,b,c,d'"
      ]
     },
     "execution_count": 66,
     "metadata": {},
     "output_type": "execute_result"
    }
   ],
   "source": [
    "\",\".join(['a', 'b', 'c', 'd'])"
   ]
  },
  {
   "cell_type": "raw",
   "id": "2c06dbf5-6195-468e-a16f-22785423a9a1",
   "metadata": {},
   "source": [
    "분리되어있던 문자열들을 하나로 합침."
   ]
  },
  {
   "cell_type": "code",
   "execution_count": 68,
   "id": "50e397c9-ddae-46b5-b534-60c31780d492",
   "metadata": {},
   "outputs": [
    {
     "data": {
      "text/plain": [
       "['a', 'b', 'c', 'd']"
      ]
     },
     "execution_count": 68,
     "metadata": {},
     "output_type": "execute_result"
    }
   ],
   "source": [
    "'a,b,c,d'.split(',')"
   ]
  },
  {
   "cell_type": "raw",
   "id": "4e24c5e2-e337-4a99-bcab-81db0ef54f01",
   "metadata": {},
   "source": [
    "합쳐져있던 문자열을 ,를 기준으로 나눔."
   ]
  },
  {
   "cell_type": "markdown",
   "id": "6ceaa0fc-60a1-471a-a219-966afc401704",
   "metadata": {},
   "source": [
    "## 3. 리스트 자료형"
   ]
  },
  {
   "cell_type": "raw",
   "id": "ecd931eb-3f21-4040-94b6-12403bada984",
   "metadata": {},
   "source": [
    "리스트는 인덱싱과 슬라이스가 된다.\n",
    "index는 순서 O.\n",
    "key는 순서 X. 따라서 중복도 X."
   ]
  },
  {
   "cell_type": "raw",
   "id": "259f0bcf-dd4a-47f5-bc36-8b6570d74c7f",
   "metadata": {},
   "source": [
    "대괄호로 엮으면 리스트. ','로 구분.\n",
    "파이썬은 들여쓰기에도 의미를 부여함. 쥬피터에서는 문제없지만 다른 프로그램에서는 오류가 날 수 있다. -> IndentationError."
   ]
  },
  {
   "cell_type": "code",
   "execution_count": 2,
   "id": "c5a774e8-f769-4121-a5d8-6d7a47ad2b01",
   "metadata": {},
   "outputs": [
    {
     "data": {
      "text/plain": [
       "list"
      ]
     },
     "execution_count": 2,
     "metadata": {},
     "output_type": "execute_result"
    }
   ],
   "source": [
    "a = []\n",
    "type(a)"
   ]
  },
  {
   "cell_type": "code",
   "execution_count": 5,
   "id": "a2c91dbe-dcb3-4e2b-8cd1-67f16bd43c1f",
   "metadata": {},
   "outputs": [],
   "source": [
    " b = [1, 2, 3]\n",
    "c = ['Life', 'is', 'too', 'short']\n",
    "d = [1, 2, 'Life', 'is']\n",
    "e = [1, 2, ['Life', 'is']]"
   ]
  },
  {
   "cell_type": "code",
   "execution_count": 6,
   "id": "218d90ff-7482-4133-944f-bbe297197443",
   "metadata": {},
   "outputs": [
    {
     "data": {
      "text/plain": [
       "list"
      ]
     },
     "execution_count": 6,
     "metadata": {},
     "output_type": "execute_result"
    }
   ],
   "source": [
    "type(e)"
   ]
  },
  {
   "cell_type": "code",
   "execution_count": 7,
   "id": "7f4dfbdb-686c-4147-8cd9-ff19137c30ff",
   "metadata": {},
   "outputs": [
    {
     "data": {
      "text/plain": [
       "2"
      ]
     },
     "execution_count": 7,
     "metadata": {},
     "output_type": "execute_result"
    }
   ],
   "source": [
    "e[1]"
   ]
  },
  {
   "cell_type": "code",
   "execution_count": 8,
   "id": "ee93c9c2-3225-4d62-bf7c-446ef8b3517c",
   "metadata": {},
   "outputs": [
    {
     "data": {
      "text/plain": [
       "['Life', 'is']"
      ]
     },
     "execution_count": 8,
     "metadata": {},
     "output_type": "execute_result"
    }
   ],
   "source": [
    "e[2]"
   ]
  },
  {
   "cell_type": "code",
   "execution_count": 9,
   "id": "7a2964f8-1838-4e25-afd9-e4ce37bd1de6",
   "metadata": {},
   "outputs": [
    {
     "data": {
      "text/plain": [
       "'is'"
      ]
     },
     "execution_count": 9,
     "metadata": {},
     "output_type": "execute_result"
    }
   ],
   "source": [
    "e[2][1]"
   ]
  },
  {
   "cell_type": "code",
   "execution_count": 10,
   "id": "9cb45447-95ba-4d82-80de-8689d0db6854",
   "metadata": {},
   "outputs": [
    {
     "ename": "SyntaxError",
     "evalue": "invalid syntax (4006181478.py, line 1)",
     "output_type": "error",
     "traceback": [
      "\u001b[1;36m  Cell \u001b[1;32mIn[10], line 1\u001b[1;36m\u001b[0m\n\u001b[1;33m    int() str() list ()\u001b[0m\n\u001b[1;37m          ^\u001b[0m\n\u001b[1;31mSyntaxError\u001b[0m\u001b[1;31m:\u001b[0m invalid syntax\n"
     ]
    }
   ],
   "source": [
    "int() str() list ()"
   ]
  },
  {
   "cell_type": "raw",
   "id": "155f38cb-669c-419b-85a8-76c2e0175e44",
   "metadata": {},
   "source": [
    "비어있는 리스트는 a=list()로 만들 수 있다."
   ]
  },
  {
   "cell_type": "code",
   "execution_count": 11,
   "id": "cdbc8189-eb03-4b0e-abf4-e3f725274daf",
   "metadata": {},
   "outputs": [
    {
     "data": {
      "text/plain": [
       "5"
      ]
     },
     "execution_count": 11,
     "metadata": {},
     "output_type": "execute_result"
    }
   ],
   "source": [
    "b[1] + b[2]"
   ]
  },
  {
   "cell_type": "code",
   "execution_count": 12,
   "id": "76184a9d-d21b-4287-ab40-ded1b762f497",
   "metadata": {},
   "outputs": [
    {
     "data": {
      "text/plain": [
       "'istoo'"
      ]
     },
     "execution_count": 12,
     "metadata": {},
     "output_type": "execute_result"
    }
   ],
   "source": [
    "c[1] + c[2]"
   ]
  },
  {
   "cell_type": "code",
   "execution_count": 13,
   "id": "3daaab99-7d99-4a01-bd91-9fea1945a5b2",
   "metadata": {},
   "outputs": [
    {
     "ename": "TypeError",
     "evalue": "unsupported operand type(s) for +: 'int' and 'str'",
     "output_type": "error",
     "traceback": [
      "\u001b[1;31m---------------------------------------------------------------------------\u001b[0m",
      "\u001b[1;31mTypeError\u001b[0m                                 Traceback (most recent call last)",
      "Cell \u001b[1;32mIn[13], line 1\u001b[0m\n\u001b[1;32m----> 1\u001b[0m d[\u001b[38;5;241m1\u001b[39m] \u001b[38;5;241m+\u001b[39m d[\u001b[38;5;241m2\u001b[39m]\n",
      "\u001b[1;31mTypeError\u001b[0m: unsupported operand type(s) for +: 'int' and 'str'"
     ]
    }
   ],
   "source": [
    "d[1] + d[2]"
   ]
  },
  {
   "cell_type": "raw",
   "id": "12fa6e33-8ac4-4113-89ca-73a5feb8930e",
   "metadata": {},
   "source": [
    "리스트는 문자열과 같이 빼기와 나누기는 사용할 수 없다."
   ]
  },
  {
   "cell_type": "code",
   "execution_count": 14,
   "id": "61cb40c7-1d63-4066-8eb0-f283e24cbb2f",
   "metadata": {},
   "outputs": [
    {
     "data": {
      "text/plain": [
       "[1, 2, ['Life', 'is']]"
      ]
     },
     "execution_count": 14,
     "metadata": {},
     "output_type": "execute_result"
    }
   ],
   "source": [
    "e"
   ]
  },
  {
   "cell_type": "code",
   "execution_count": 15,
   "id": "51b3c0a7-56a1-4784-a03e-599af71610e3",
   "metadata": {},
   "outputs": [
    {
     "data": {
      "text/plain": [
       "3"
      ]
     },
     "execution_count": 15,
     "metadata": {},
     "output_type": "execute_result"
    }
   ],
   "source": [
    "len(e)"
   ]
  },
  {
   "cell_type": "code",
   "execution_count": 16,
   "id": "2df42fad-4dd0-4a06-8d7e-26a5a2292475",
   "metadata": {},
   "outputs": [
    {
     "data": {
      "text/plain": [
       "2"
      ]
     },
     "execution_count": 16,
     "metadata": {},
     "output_type": "execute_result"
    }
   ],
   "source": [
    "len(e[2])"
   ]
  },
  {
   "cell_type": "raw",
   "id": "1a85043e-9ede-42d8-82fb-b2965da10d27",
   "metadata": {},
   "source": [
    "e 리스트의 2번에 있는 것의 길이를 구하는 법 (위)"
   ]
  },
  {
   "cell_type": "code",
   "execution_count": 17,
   "id": "e5c2526a-9f69-441c-8037-e387e6d76278",
   "metadata": {},
   "outputs": [],
   "source": [
    "a = [1,2,3]"
   ]
  },
  {
   "cell_type": "code",
   "execution_count": 18,
   "id": "1390a875-17b6-42bb-b78d-d30696ff543a",
   "metadata": {},
   "outputs": [],
   "source": [
    "a[2] = 4"
   ]
  },
  {
   "cell_type": "code",
   "execution_count": 19,
   "id": "f14fe785-96cc-4553-a6ce-c026e823c79b",
   "metadata": {},
   "outputs": [
    {
     "data": {
      "text/plain": [
       "[1, 2, 4]"
      ]
     },
     "execution_count": 19,
     "metadata": {},
     "output_type": "execute_result"
    }
   ],
   "source": [
    "a"
   ]
  },
  {
   "cell_type": "code",
   "execution_count": 20,
   "id": "de94fe4a-094a-4574-b5ce-5b968d3993b8",
   "metadata": {},
   "outputs": [],
   "source": [
    "del(a[1])"
   ]
  },
  {
   "cell_type": "code",
   "execution_count": 21,
   "id": "22011440-b1a3-4c7c-ad8f-c6b679740789",
   "metadata": {},
   "outputs": [
    {
     "data": {
      "text/plain": [
       "[1, 4]"
      ]
     },
     "execution_count": 21,
     "metadata": {},
     "output_type": "execute_result"
    }
   ],
   "source": [
    "a"
   ]
  },
  {
   "cell_type": "raw",
   "id": "c64fd02d-a7a5-47b7-88af-b08360ae33b5",
   "metadata": {},
   "source": [
    "파이썬 2때의 경우 함수를 호출할 때 ()를 쓰지 않았다. 띄어쓰기를 사용했다. 3에 와서는 그런 게 거의 사라짐. 그러나 del은 아직까지는 띄어쓰기를 사용할 수 있다. 그러니 위의 방법을 사용하는 것을 추천함."
   ]
  },
  {
   "cell_type": "code",
   "execution_count": 22,
   "id": "a12af492-e96d-4e72-9d3f-061e18dca2ab",
   "metadata": {},
   "outputs": [],
   "source": [
    "del a[0]"
   ]
  },
  {
   "cell_type": "code",
   "execution_count": 23,
   "id": "a8378033-b54b-4bf6-8f1d-0e8aeb266f03",
   "metadata": {},
   "outputs": [
    {
     "data": {
      "text/plain": [
       "[4]"
      ]
     },
     "execution_count": 23,
     "metadata": {},
     "output_type": "execute_result"
    }
   ],
   "source": [
    "a"
   ]
  },
  {
   "cell_type": "code",
   "execution_count": 24,
   "id": "93e89e24-e957-4d41-b8dd-771d65335158",
   "metadata": {},
   "outputs": [],
   "source": [
    "del(a)"
   ]
  },
  {
   "cell_type": "code",
   "execution_count": 25,
   "id": "5ea269d6-9bbc-4774-89de-8a9ee1be524e",
   "metadata": {},
   "outputs": [
    {
     "ename": "NameError",
     "evalue": "name 'a' is not defined",
     "output_type": "error",
     "traceback": [
      "\u001b[1;31m---------------------------------------------------------------------------\u001b[0m",
      "\u001b[1;31mNameError\u001b[0m                                 Traceback (most recent call last)",
      "Cell \u001b[1;32mIn[25], line 1\u001b[0m\n\u001b[1;32m----> 1\u001b[0m a\n",
      "\u001b[1;31mNameError\u001b[0m: name 'a' is not defined"
     ]
    }
   ],
   "source": [
    "a"
   ]
  },
  {
   "cell_type": "raw",
   "id": "31bc8613-692d-4e23-9a9f-cb11d14492ea",
   "metadata": {},
   "source": [
    "del은 리스트 뿐만 아니라 문자열이나 정수도 지울 수 있다. 정의된 함수 자체를 지운다."
   ]
  },
  {
   "cell_type": "raw",
   "id": "a5117762-b45b-4615-9268-2a9be9b2828f",
   "metadata": {},
   "source": [
    "리스트의 경우에도 문자열처럼 str.append()\n",
    "list.append() 이런 식으로 사용한다.\n",
    "tab을 누르면 명령어가 나오고 shift+tab의 경우 도움말이 나온다.\n",
    "리스트의 append는 클래스로 정의되어있어서 앞에 리스트가 붙어있어야 한다. "
   ]
  },
  {
   "cell_type": "code",
   "execution_count": 26,
   "id": "1a6f5e60-6bcd-406e-98cd-61be8b4bbd29",
   "metadata": {},
   "outputs": [
    {
     "data": {
      "text/plain": [
       "[1, 2, 'Life', 'is']"
      ]
     },
     "execution_count": 26,
     "metadata": {},
     "output_type": "execute_result"
    }
   ],
   "source": [
    "d"
   ]
  },
  {
   "cell_type": "code",
   "execution_count": 27,
   "id": "0d3876d0-984d-474a-bb9e-7eb982e6e588",
   "metadata": {},
   "outputs": [],
   "source": [
    "d.append([1,2,3])"
   ]
  },
  {
   "cell_type": "code",
   "execution_count": 28,
   "id": "628d11da-1ea2-4591-8977-9fa895a9be73",
   "metadata": {},
   "outputs": [
    {
     "data": {
      "text/plain": [
       "[1, 2, 'Life', 'is', [1, 2, 3]]"
      ]
     },
     "execution_count": 28,
     "metadata": {},
     "output_type": "execute_result"
    }
   ],
   "source": [
    "d"
   ]
  },
  {
   "cell_type": "code",
   "execution_count": 29,
   "id": "691e4036-ad78-486c-a230-abca42a413ba",
   "metadata": {},
   "outputs": [
    {
     "ename": "TypeError",
     "evalue": "'<' not supported between instances of 'str' and 'int'",
     "output_type": "error",
     "traceback": [
      "\u001b[1;31m---------------------------------------------------------------------------\u001b[0m",
      "\u001b[1;31mTypeError\u001b[0m                                 Traceback (most recent call last)",
      "Cell \u001b[1;32mIn[29], line 1\u001b[0m\n\u001b[1;32m----> 1\u001b[0m d\u001b[38;5;241m.\u001b[39msort()\n",
      "\u001b[1;31mTypeError\u001b[0m: '<' not supported between instances of 'str' and 'int'"
     ]
    }
   ],
   "source": [
    "d.sort()"
   ]
  },
  {
   "cell_type": "raw",
   "id": "c21124db-04ce-4e9b-9ef9-8ccafd918825",
   "metadata": {},
   "source": [
    "요 친구들에 대한 우선순위가 정의가 안되어있다. 크다 작다가 정의되어야하는데 다른 종류의 데이터는 그럴 수 없으니까.\n",
    "파이썬은 첫글자를 대문자로 쓴다. 키워드면 초록색으로 보임."
   ]
  },
  {
   "cell_type": "code",
   "execution_count": 30,
   "id": "53b38da7-337f-4108-b7f4-12e7a2bb6cee",
   "metadata": {},
   "outputs": [
    {
     "data": {
      "text/plain": [
       "[1, 2, 3]"
      ]
     },
     "execution_count": 30,
     "metadata": {},
     "output_type": "execute_result"
    }
   ],
   "source": [
    "b"
   ]
  },
  {
   "cell_type": "code",
   "execution_count": 31,
   "id": "798744f4-3f2e-42fc-8504-5c52af166ed5",
   "metadata": {},
   "outputs": [],
   "source": [
    "a = [1, 4, 3, 2]"
   ]
  },
  {
   "cell_type": "code",
   "execution_count": 32,
   "id": "b546b8be-e6dd-47ad-b475-a9f5a33bfbe5",
   "metadata": {},
   "outputs": [],
   "source": [
    "a.sort()"
   ]
  },
  {
   "cell_type": "code",
   "execution_count": 33,
   "id": "2a4f22ec-bb52-40a0-9f40-ad8e247e5358",
   "metadata": {},
   "outputs": [
    {
     "data": {
      "text/plain": [
       "[1, 2, 3, 4]"
      ]
     },
     "execution_count": 33,
     "metadata": {},
     "output_type": "execute_result"
    }
   ],
   "source": [
    "a"
   ]
  },
  {
   "cell_type": "code",
   "execution_count": 34,
   "id": "5f2f0609-81e3-4626-8bb4-610c8d25dce7",
   "metadata": {},
   "outputs": [],
   "source": [
    "a = ['a', 'c', 'b']"
   ]
  },
  {
   "cell_type": "code",
   "execution_count": 35,
   "id": "26f98144-3360-4503-ae2e-35ecf695e971",
   "metadata": {},
   "outputs": [
    {
     "data": {
      "text/plain": [
       "['a', 'c', 'b']"
      ]
     },
     "execution_count": 35,
     "metadata": {},
     "output_type": "execute_result"
    }
   ],
   "source": [
    "a"
   ]
  },
  {
   "cell_type": "code",
   "execution_count": 36,
   "id": "4f7ff52e-7e4c-45a4-8d43-3ef547375043",
   "metadata": {},
   "outputs": [],
   "source": [
    "a.sort()"
   ]
  },
  {
   "cell_type": "code",
   "execution_count": 37,
   "id": "66f75992-bfbb-4acd-8388-a38cbcf8f38e",
   "metadata": {},
   "outputs": [
    {
     "data": {
      "text/plain": [
       "['a', 'b', 'c']"
      ]
     },
     "execution_count": 37,
     "metadata": {},
     "output_type": "execute_result"
    }
   ],
   "source": [
    "a"
   ]
  },
  {
   "cell_type": "code",
   "execution_count": 38,
   "id": "aadc4b43-3f98-40b7-9449-a335c36b514a",
   "metadata": {},
   "outputs": [],
   "source": [
    "a.sort(reverse=True)"
   ]
  },
  {
   "cell_type": "code",
   "execution_count": 39,
   "id": "c4ec031d-7bff-4082-abe8-ce84769c8c46",
   "metadata": {},
   "outputs": [
    {
     "data": {
      "text/plain": [
       "['c', 'b', 'a']"
      ]
     },
     "execution_count": 39,
     "metadata": {},
     "output_type": "execute_result"
    }
   ],
   "source": [
    "a"
   ]
  },
  {
   "cell_type": "code",
   "execution_count": 40,
   "id": "b1f27004-63b5-4e2c-9c5d-29c8d535fb89",
   "metadata": {},
   "outputs": [],
   "source": [
    "a = [1, 2, 3]"
   ]
  },
  {
   "cell_type": "code",
   "execution_count": 41,
   "id": "9d281174-da68-4529-8b35-8bc4605b276f",
   "metadata": {},
   "outputs": [
    {
     "data": {
      "text/plain": [
       "1"
      ]
     },
     "execution_count": 41,
     "metadata": {},
     "output_type": "execute_result"
    }
   ],
   "source": [
    "a.pop(0)"
   ]
  },
  {
   "cell_type": "code",
   "execution_count": 42,
   "id": "507190f0-fdd7-466f-8601-ad6f637f424a",
   "metadata": {},
   "outputs": [
    {
     "data": {
      "text/plain": [
       "[2, 3]"
      ]
     },
     "execution_count": 42,
     "metadata": {},
     "output_type": "execute_result"
    }
   ],
   "source": [
    "a"
   ]
  },
  {
   "cell_type": "markdown",
   "id": "e7265e92-de36-4e13-89bd-1c08a3f7d3e6",
   "metadata": {},
   "source": [
    "## 4.튜플 자료형"
   ]
  },
  {
   "cell_type": "raw",
   "id": "25554d5e-6653-41fb-b28b-b993320a8137",
   "metadata": {},
   "source": [
    "튜블은 데이터 수정 작업이 안된다. 가져오는 건 된다. 그 외에는 리스트와 비슷하다.\n",
    "값만 적는 것이 아니라 뒤에 ','를 붙여야한다. 붙이지 않으면 제대로 처리되지 않는다.\n",
    "t4처럼 괄호를 생략해서 적는 것도 튜플이 된다.\n",
    "인덱스와 슬라이스는 되지만 수정은 안된다. 부분 삭제도 안됨. 자체 삭제는 된다."
   ]
  },
  {
   "cell_type": "code",
   "execution_count": 43,
   "id": "cad80658-8bc4-4534-8c0e-3a65cbd41438",
   "metadata": {},
   "outputs": [],
   "source": [
    "t1 = ()\n",
    "t2 = (1,)\n",
    "t3 = (1, 2, 3)\n",
    "t4 = 1, 2, 3\n",
    "t5 = ('a', 'b', ('ab', 'cd'))"
   ]
  },
  {
   "cell_type": "code",
   "execution_count": 44,
   "id": "84e121c2-7e85-419c-ad19-d6a259cb7bd2",
   "metadata": {},
   "outputs": [
    {
     "data": {
      "text/plain": [
       "tuple"
      ]
     },
     "execution_count": 44,
     "metadata": {},
     "output_type": "execute_result"
    }
   ],
   "source": [
    "type(t1)"
   ]
  },
  {
   "cell_type": "code",
   "execution_count": 45,
   "id": "d40329d3-370d-43fc-94fa-4b311678c4ed",
   "metadata": {},
   "outputs": [
    {
     "data": {
      "text/plain": [
       "tuple"
      ]
     },
     "execution_count": 45,
     "metadata": {},
     "output_type": "execute_result"
    }
   ],
   "source": [
    "type(t4)"
   ]
  },
  {
   "cell_type": "code",
   "execution_count": 46,
   "id": "6130fb67-eab4-4eb3-ae98-9dd18cb3d28e",
   "metadata": {},
   "outputs": [
    {
     "data": {
      "text/plain": [
       "()"
      ]
     },
     "execution_count": 46,
     "metadata": {},
     "output_type": "execute_result"
    }
   ],
   "source": [
    "tuple()"
   ]
  },
  {
   "cell_type": "code",
   "execution_count": 47,
   "id": "4995de56-9373-4c7b-84c4-c4e6c45f5273",
   "metadata": {},
   "outputs": [
    {
     "data": {
      "text/plain": [
       "2"
      ]
     },
     "execution_count": 47,
     "metadata": {},
     "output_type": "execute_result"
    }
   ],
   "source": [
    "t3[1]"
   ]
  },
  {
   "cell_type": "code",
   "execution_count": 48,
   "id": "e9c61b18-548d-497f-b6df-cdfa7f11439e",
   "metadata": {},
   "outputs": [
    {
     "ename": "TypeError",
     "evalue": "'tuple' object does not support item assignment",
     "output_type": "error",
     "traceback": [
      "\u001b[1;31m---------------------------------------------------------------------------\u001b[0m",
      "\u001b[1;31mTypeError\u001b[0m                                 Traceback (most recent call last)",
      "Cell \u001b[1;32mIn[48], line 1\u001b[0m\n\u001b[1;32m----> 1\u001b[0m t3[\u001b[38;5;241m1\u001b[39m]\u001b[38;5;241m=\u001b[39m\u001b[38;5;241m5\u001b[39m\n",
      "\u001b[1;31mTypeError\u001b[0m: 'tuple' object does not support item assignment"
     ]
    }
   ],
   "source": [
    "t3[1]=5"
   ]
  },
  {
   "cell_type": "code",
   "execution_count": 49,
   "id": "5c2df45e-cf92-455e-ba08-83784253fed4",
   "metadata": {},
   "outputs": [
    {
     "ename": "TypeError",
     "evalue": "'tuple' object doesn't support item deletion",
     "output_type": "error",
     "traceback": [
      "\u001b[1;31m---------------------------------------------------------------------------\u001b[0m",
      "\u001b[1;31mTypeError\u001b[0m                                 Traceback (most recent call last)",
      "Cell \u001b[1;32mIn[49], line 1\u001b[0m\n\u001b[1;32m----> 1\u001b[0m \u001b[38;5;28;01mdel\u001b[39;00m(t3[\u001b[38;5;241m1\u001b[39m])\n",
      "\u001b[1;31mTypeError\u001b[0m: 'tuple' object doesn't support item deletion"
     ]
    }
   ],
   "source": [
    "del(t3[1])"
   ]
  },
  {
   "cell_type": "code",
   "execution_count": 50,
   "id": "94a2255d-4021-4e6a-9359-2f4576170d67",
   "metadata": {},
   "outputs": [],
   "source": [
    "del(t3)"
   ]
  },
  {
   "cell_type": "code",
   "execution_count": 51,
   "id": "aaa9054e-3808-4882-b541-6ff283707805",
   "metadata": {},
   "outputs": [
    {
     "ename": "NameError",
     "evalue": "name 't3' is not defined",
     "output_type": "error",
     "traceback": [
      "\u001b[1;31m---------------------------------------------------------------------------\u001b[0m",
      "\u001b[1;31mNameError\u001b[0m                                 Traceback (most recent call last)",
      "Cell \u001b[1;32mIn[51], line 1\u001b[0m\n\u001b[1;32m----> 1\u001b[0m t3\n",
      "\u001b[1;31mNameError\u001b[0m: name 't3' is not defined"
     ]
    }
   ],
   "source": [
    "t3"
   ]
  },
  {
   "cell_type": "markdown",
   "id": "fa1df136-149a-4166-b290-09f131611590",
   "metadata": {},
   "source": [
    "## 5.딕셔너리"
   ]
  },
  {
   "cell_type": "raw",
   "id": "ccd01dc2-fb7f-4d8a-b539-16c8989ec74d",
   "metadata": {},
   "source": [
    "딕셔너리는 순서가 없기 때문에 인덱스와 슬라이스가 안된다.\n",
    "순서가 없기에 key-value 형태를 쓴다.\n",
    "딕셔너리는 실수X. 대부분 키로 쓰이는 것은 문자 or 숫자.\n",
    "value에 list 형식도 넣을 수 있다."
   ]
  },
  {
   "cell_type": "raw",
   "id": "6a0ae8ad-2672-43d3-b7e2-dc47688e6eec",
   "metadata": {},
   "source": [
    "딕셔너리는 {} 중괄호, list()\n",
    "튜블은 () 소괄호, typle()\n",
    "리스트는 [] 대괄호, \n",
    "set 셋은 {key} 이런 형식"
   ]
  },
  {
   "cell_type": "code",
   "execution_count": 52,
   "id": "b6bba853-0dbf-41ad-9945-ed1b01fd47f5",
   "metadata": {},
   "outputs": [],
   "source": [
    "dic = {'name': 'pey', 'phone': '010-9999-1234', 'birth': '1118'}"
   ]
  },
  {
   "cell_type": "code",
   "execution_count": 53,
   "id": "20f987da-9753-4ac2-9058-3ce0ccb30228",
   "metadata": {},
   "outputs": [
    {
     "data": {
      "text/plain": [
       "dict"
      ]
     },
     "execution_count": 53,
     "metadata": {},
     "output_type": "execute_result"
    }
   ],
   "source": [
    "type(dic)"
   ]
  },
  {
   "cell_type": "code",
   "execution_count": 54,
   "id": "f2c82b36-58f4-4c62-b46a-839f0c116aea",
   "metadata": {},
   "outputs": [
    {
     "data": {
      "text/plain": [
       "{}"
      ]
     },
     "execution_count": 54,
     "metadata": {},
     "output_type": "execute_result"
    }
   ],
   "source": [
    "dict()"
   ]
  },
  {
   "cell_type": "code",
   "execution_count": 55,
   "id": "4a51b000-0e28-4e55-9b5a-9244a370d405",
   "metadata": {},
   "outputs": [
    {
     "data": {
      "text/plain": [
       "'pey'"
      ]
     },
     "execution_count": 55,
     "metadata": {},
     "output_type": "execute_result"
    }
   ],
   "source": [
    "dic['name']"
   ]
  },
  {
   "cell_type": "code",
   "execution_count": 56,
   "id": "a85d996a-ed3e-415e-851e-6a39bb920db3",
   "metadata": {},
   "outputs": [],
   "source": [
    "dic['name'] = 'hong'"
   ]
  },
  {
   "cell_type": "code",
   "execution_count": 57,
   "id": "36c65388-a0ec-4a09-a16b-72328c2b4e64",
   "metadata": {},
   "outputs": [
    {
     "data": {
      "text/plain": [
       "{'name': 'hong', 'phone': '010-9999-1234', 'birth': '1118'}"
      ]
     },
     "execution_count": 57,
     "metadata": {},
     "output_type": "execute_result"
    }
   ],
   "source": [
    "dic"
   ]
  },
  {
   "cell_type": "code",
   "execution_count": 58,
   "id": "199cfd4c-2dcd-42d8-a5f7-86c6c576fd64",
   "metadata": {},
   "outputs": [],
   "source": [
    "dic['address'] = '부산'"
   ]
  },
  {
   "cell_type": "code",
   "execution_count": 59,
   "id": "4bff05b7-d16a-4428-a035-23d6db38c128",
   "metadata": {
    "scrolled": true
   },
   "outputs": [
    {
     "data": {
      "text/plain": [
       "{'name': 'hong', 'phone': '010-9999-1234', 'birth': '1118', 'address': '부산'}"
      ]
     },
     "execution_count": 59,
     "metadata": {},
     "output_type": "execute_result"
    }
   ],
   "source": [
    "dic"
   ]
  },
  {
   "cell_type": "raw",
   "id": "6722f141-ee68-47b7-b57f-2e45ff5676e7",
   "metadata": {},
   "source": [
    "있는 키값이면 찾고 없는 키값으면 만들어서 넣는다.\n",
    "동일한 키는 중복으로 존재할 수 없다.\n",
    "list는 변경할 수 있기에 키 값으로 쓸 수 없다. 따라서 튜플은 된다. 하지만 사용하지는 않는 편이다."
   ]
  },
  {
   "cell_type": "code",
   "execution_count": 60,
   "id": "028c5333-d07b-4a61-a8e1-76dbb946f90c",
   "metadata": {},
   "outputs": [],
   "source": [
    "del(dic['address'])"
   ]
  },
  {
   "cell_type": "code",
   "execution_count": 61,
   "id": "0fbcc902-6bf7-457d-9688-29d74e2a7f83",
   "metadata": {},
   "outputs": [
    {
     "data": {
      "text/plain": [
       "{'name': 'hong', 'phone': '010-9999-1234', 'birth': '1118'}"
      ]
     },
     "execution_count": 61,
     "metadata": {},
     "output_type": "execute_result"
    }
   ],
   "source": [
    "dic\n"
   ]
  },
  {
   "cell_type": "code",
   "execution_count": 62,
   "id": "3900289e-b0a6-4830-af66-e7ce50e82164",
   "metadata": {},
   "outputs": [],
   "source": [
    "dic[(1,2)] = (1,2,3,4)"
   ]
  },
  {
   "cell_type": "code",
   "execution_count": 63,
   "id": "8606fbea-a4af-481c-9339-c5b36512deb6",
   "metadata": {},
   "outputs": [
    {
     "data": {
      "text/plain": [
       "{'name': 'hong',\n",
       " 'phone': '010-9999-1234',\n",
       " 'birth': '1118',\n",
       " (1, 2): (1, 2, 3, 4)}"
      ]
     },
     "execution_count": 63,
     "metadata": {},
     "output_type": "execute_result"
    }
   ],
   "source": [
    "dic"
   ]
  },
  {
   "cell_type": "code",
   "execution_count": 65,
   "id": "7aa5d452-7886-4dbb-8bdb-9aaeaa93117c",
   "metadata": {},
   "outputs": [
    {
     "ename": "TypeError",
     "evalue": "unhashable type: 'list'",
     "output_type": "error",
     "traceback": [
      "\u001b[1;31m---------------------------------------------------------------------------\u001b[0m",
      "\u001b[1;31mTypeError\u001b[0m                                 Traceback (most recent call last)",
      "Cell \u001b[1;32mIn[65], line 1\u001b[0m\n\u001b[1;32m----> 1\u001b[0m dic[[\u001b[38;5;241m1\u001b[39m,\u001b[38;5;241m2\u001b[39m]] \u001b[38;5;241m=\u001b[39m [\u001b[38;5;241m1\u001b[39m,\u001b[38;5;241m2\u001b[39m,\u001b[38;5;241m3\u001b[39m,\u001b[38;5;241m4\u001b[39m]\n",
      "\u001b[1;31mTypeError\u001b[0m: unhashable type: 'list'"
     ]
    }
   ],
   "source": [
    "dic[[1,2]] = [1,2,3,4]"
   ]
  },
  {
   "cell_type": "code",
   "execution_count": 66,
   "id": "172a55ff-ab93-4602-b19c-c74f01fd50f4",
   "metadata": {},
   "outputs": [],
   "source": [
    "dic[1.9] =1"
   ]
  },
  {
   "cell_type": "code",
   "execution_count": 67,
   "id": "2ee2f229-7870-487a-8096-4cde59317c7d",
   "metadata": {},
   "outputs": [
    {
     "data": {
      "text/plain": [
       "{'name': 'hong',\n",
       " 'phone': '010-9999-1234',\n",
       " 'birth': '1118',\n",
       " (1, 2): (1, 2, 3, 4),\n",
       " 1.9: 1}"
      ]
     },
     "execution_count": 67,
     "metadata": {},
     "output_type": "execute_result"
    }
   ],
   "source": [
    "dic"
   ]
  },
  {
   "cell_type": "code",
   "execution_count": 68,
   "id": "deb76227-49c1-4345-b232-4a89803b121f",
   "metadata": {},
   "outputs": [
    {
     "data": {
      "text/plain": [
       "dict_keys(['name', 'phone', 'birth', (1, 2), 1.9])"
      ]
     },
     "execution_count": 68,
     "metadata": {},
     "output_type": "execute_result"
    }
   ],
   "source": [
    "dic.keys()"
   ]
  },
  {
   "cell_type": "code",
   "execution_count": 69,
   "id": "aeb4c4bd-ca60-4a04-b1c0-3cca8445fccc",
   "metadata": {},
   "outputs": [
    {
     "data": {
      "text/plain": [
       "dict_values(['hong', '010-9999-1234', '1118', (1, 2, 3, 4), 1])"
      ]
     },
     "execution_count": 69,
     "metadata": {},
     "output_type": "execute_result"
    }
   ],
   "source": [
    "dic.values()"
   ]
  },
  {
   "cell_type": "code",
   "execution_count": 70,
   "id": "4a12b912-1615-4bbb-bc41-22fe01df709d",
   "metadata": {},
   "outputs": [
    {
     "data": {
      "text/plain": [
       "dict_items([('name', 'hong'), ('phone', '010-9999-1234'), ('birth', '1118'), ((1, 2), (1, 2, 3, 4)), (1.9, 1)])"
      ]
     },
     "execution_count": 70,
     "metadata": {},
     "output_type": "execute_result"
    }
   ],
   "source": [
    "dic.items()"
   ]
  },
  {
   "cell_type": "code",
   "execution_count": 71,
   "id": "fd33aac0-4346-4904-a5e4-b941967354b9",
   "metadata": {},
   "outputs": [
    {
     "ename": "KeyError",
     "evalue": "'name1'",
     "output_type": "error",
     "traceback": [
      "\u001b[1;31m---------------------------------------------------------------------------\u001b[0m",
      "\u001b[1;31mKeyError\u001b[0m                                  Traceback (most recent call last)",
      "Cell \u001b[1;32mIn[71], line 1\u001b[0m\n\u001b[1;32m----> 1\u001b[0m dic[\u001b[38;5;124m'\u001b[39m\u001b[38;5;124mname1\u001b[39m\u001b[38;5;124m'\u001b[39m]\n",
      "\u001b[1;31mKeyError\u001b[0m: 'name1'"
     ]
    }
   ],
   "source": [
    "dic['name1']"
   ]
  },
  {
   "cell_type": "code",
   "execution_count": 72,
   "id": "63583921-34d2-484f-ac58-3d0f275918ec",
   "metadata": {},
   "outputs": [
    {
     "data": {
      "text/plain": [
       "'hong'"
      ]
     },
     "execution_count": 72,
     "metadata": {},
     "output_type": "execute_result"
    }
   ],
   "source": [
    "dic.get('name')"
   ]
  },
  {
   "cell_type": "code",
   "execution_count": 73,
   "id": "6a509a3a-b467-4872-8222-d7e2c2add5a9",
   "metadata": {},
   "outputs": [],
   "source": [
    "dic.get('name1')"
   ]
  },
  {
   "cell_type": "raw",
   "id": "f1f6598c-2596-48ad-9ed4-937bf09a347a",
   "metadata": {},
   "source": [
    "위는 오류 발생, 아래는 오류 발생 X. 상황에 따라서 쓸 것"
   ]
  },
  {
   "cell_type": "code",
   "execution_count": 74,
   "id": "3c6b559a-20b8-4b51-b649-1bf45538a84d",
   "metadata": {},
   "outputs": [
    {
     "data": {
      "text/plain": [
       "True"
      ]
     },
     "execution_count": 74,
     "metadata": {},
     "output_type": "execute_result"
    }
   ],
   "source": [
    "'name' in dic"
   ]
  },
  {
   "cell_type": "code",
   "execution_count": 75,
   "id": "f0714b26-4ca9-4182-8428-f768b0abf99a",
   "metadata": {},
   "outputs": [
    {
     "data": {
      "text/plain": [
       "False"
      ]
     },
     "execution_count": 75,
     "metadata": {},
     "output_type": "execute_result"
    }
   ],
   "source": [
    "'name1' in dic"
   ]
  },
  {
   "cell_type": "markdown",
   "id": "5505399e-2626-4a1c-9ea7-bb3083e9b96c",
   "metadata": {},
   "source": [
    "## 6. 집합 자료형"
   ]
  },
  {
   "cell_type": "raw",
   "id": "4550aecc-436b-48ca-851c-89ebf555e1dd",
   "metadata": {},
   "source": [
    "집합 자료형도 중복을 허용하지 않고 순서가 없다."
   ]
  },
  {
   "cell_type": "code",
   "execution_count": 76,
   "id": "d023bad3-c356-488b-9532-4d5fa1b4baf5",
   "metadata": {},
   "outputs": [],
   "source": [
    "s = {1,2,5,3,7,5,8,9,8,3}"
   ]
  },
  {
   "cell_type": "code",
   "execution_count": 77,
   "id": "531b0d25-b2f9-4ecd-a0f9-6146c6125745",
   "metadata": {},
   "outputs": [
    {
     "data": {
      "text/plain": [
       "{1, 2, 3, 5, 7, 8, 9}"
      ]
     },
     "execution_count": 77,
     "metadata": {},
     "output_type": "execute_result"
    }
   ],
   "source": [
    "s"
   ]
  },
  {
   "cell_type": "code",
   "execution_count": 78,
   "id": "1995558b-e323-408b-840d-7dbba6b200a3",
   "metadata": {},
   "outputs": [
    {
     "data": {
      "text/plain": [
       "set"
      ]
     },
     "execution_count": 78,
     "metadata": {},
     "output_type": "execute_result"
    }
   ],
   "source": [
    "type(s)"
   ]
  },
  {
   "cell_type": "raw",
   "id": "005ba99b-511a-4e43-ab9d-db9c6fbc9e8f",
   "metadata": {},
   "source": [
    "add는 하나, update는 여러 개, 제거할 때는 remove"
   ]
  },
  {
   "cell_type": "markdown",
   "id": "4e8dce71-3f03-4b3c-905b-16bbff8a6f6a",
   "metadata": {},
   "source": [
    "## 7. 불 자료형"
   ]
  },
  {
   "cell_type": "raw",
   "id": "d5af80b4-61b5-4430-980c-5128344acb55",
   "metadata": {},
   "source": [
    "True 혹은 False를 나타냄."
   ]
  },
  {
   "cell_type": "raw",
   "id": "cb90fed5-f030-40ab-aa90-a353563e30ac",
   "metadata": {},
   "source": [
    "자료형의 참과 거짓\n",
    "문자열, 리스트, 튜플, 딕셔너리들은 값이 있으면 참, 없으면 거짓\n",
    "숫자는 0이 아닌 것들을 참이라고 여기고 0이 거짓\n",
    "None은 거짓."
   ]
  },
  {
   "cell_type": "code",
   "execution_count": 79,
   "id": "fb297178-76ab-4a1a-b303-95e8a0ca9afd",
   "metadata": {},
   "outputs": [
    {
     "data": {
      "text/plain": [
       "False"
      ]
     },
     "execution_count": 79,
     "metadata": {},
     "output_type": "execute_result"
    }
   ],
   "source": [
    "bool('')"
   ]
  },
  {
   "cell_type": "code",
   "execution_count": 80,
   "id": "08a21054-b6b1-48b0-85ec-ae597853ee36",
   "metadata": {},
   "outputs": [
    {
     "data": {
      "text/plain": [
       "True"
      ]
     },
     "execution_count": 80,
     "metadata": {},
     "output_type": "execute_result"
    }
   ],
   "source": [
    "bool('hhh')"
   ]
  },
  {
   "cell_type": "code",
   "execution_count": 81,
   "id": "86a2d6cc-c3d9-44d7-98d5-c71b7b943499",
   "metadata": {},
   "outputs": [],
   "source": [
    "a = [1,2,3]"
   ]
  },
  {
   "cell_type": "code",
   "execution_count": 82,
   "id": "fe120cee-2ee5-40c6-8f7d-3b05884ac12b",
   "metadata": {},
   "outputs": [
    {
     "data": {
      "text/plain": [
       "2789499279488"
      ]
     },
     "execution_count": 82,
     "metadata": {},
     "output_type": "execute_result"
    }
   ],
   "source": [
    "id(a)"
   ]
  },
  {
   "cell_type": "code",
   "execution_count": 83,
   "id": "87e616e2-0524-400f-8b95-9d6bd39a1851",
   "metadata": {},
   "outputs": [],
   "source": [
    "b = a"
   ]
  },
  {
   "cell_type": "code",
   "execution_count": 84,
   "id": "0e468d08-bcdf-4d03-b094-3612b5eb12ae",
   "metadata": {},
   "outputs": [
    {
     "data": {
      "text/plain": [
       "2789499279488"
      ]
     },
     "execution_count": 84,
     "metadata": {},
     "output_type": "execute_result"
    }
   ],
   "source": [
    "id(b)"
   ]
  },
  {
   "cell_type": "code",
   "execution_count": 85,
   "id": "2b20d1f5-dc95-441f-86d4-acb32e60eff1",
   "metadata": {},
   "outputs": [
    {
     "data": {
      "text/plain": [
       "2789503677440"
      ]
     },
     "execution_count": 85,
     "metadata": {},
     "output_type": "execute_result"
    }
   ],
   "source": [
    "c = [2,4,8]\n",
    "id(c)"
   ]
  },
  {
   "cell_type": "code",
   "execution_count": 90,
   "id": "4bbdf62d-268e-432f-b4f8-54ed6e966e07",
   "metadata": {},
   "outputs": [],
   "source": [
    "a, b = (1,2)"
   ]
  },
  {
   "cell_type": "code",
   "execution_count": 87,
   "id": "d508bfdc-3c35-41cc-be06-e453561c7a4d",
   "metadata": {},
   "outputs": [
    {
     "data": {
      "text/plain": [
       "1"
      ]
     },
     "execution_count": 87,
     "metadata": {},
     "output_type": "execute_result"
    }
   ],
   "source": [
    "a"
   ]
  },
  {
   "cell_type": "code",
   "execution_count": 88,
   "id": "cf307be5-f30e-4a9d-8d07-88d0bf9d6395",
   "metadata": {},
   "outputs": [
    {
     "data": {
      "text/plain": [
       "2"
      ]
     },
     "execution_count": 88,
     "metadata": {},
     "output_type": "execute_result"
    }
   ],
   "source": [
    "b"
   ]
  },
  {
   "cell_type": "code",
   "execution_count": 91,
   "id": "7e2f54ca-9bf2-4bfe-b57f-6d9bfa724ed4",
   "metadata": {},
   "outputs": [
    {
     "data": {
      "text/plain": [
       "5"
      ]
     },
     "execution_count": 91,
     "metadata": {},
     "output_type": "execute_result"
    }
   ],
   "source": [
    "a = 3\n",
    "b = 5\n",
    "a, b = b, a\n",
    "a"
   ]
  },
  {
   "cell_type": "code",
   "execution_count": 92,
   "id": "57397f10-ccaa-41de-9156-fc2aac411644",
   "metadata": {},
   "outputs": [
    {
     "data": {
      "text/plain": [
       "3"
      ]
     },
     "execution_count": 92,
     "metadata": {},
     "output_type": "execute_result"
    }
   ],
   "source": [
    "b"
   ]
  },
  {
   "cell_type": "code",
   "execution_count": null,
   "id": "75698e18-dce0-4371-9373-77ca6595a87a",
   "metadata": {},
   "outputs": [],
   "source": []
  }
 ],
 "metadata": {
  "kernelspec": {
   "display_name": "Python 3 (ipykernel)",
   "language": "python",
   "name": "python3"
  },
  "language_info": {
   "codemirror_mode": {
    "name": "ipython",
    "version": 3
   },
   "file_extension": ".py",
   "mimetype": "text/x-python",
   "name": "python",
   "nbconvert_exporter": "python",
   "pygments_lexer": "ipython3",
   "version": "3.11.7"
  }
 },
 "nbformat": 4,
 "nbformat_minor": 5
}
