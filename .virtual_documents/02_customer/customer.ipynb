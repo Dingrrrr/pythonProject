import re

custlist = []
page = -1

while True:
    choice = input('''
    다음 중에서 하실 일을 골라주세요 :
    I - 고객 정보 입력
    C - 현재 고객 정보 조회
    P - 이전 고객 정보 조회
    N - 다음 고객 정보 조회
    U - 고객 정보 수정
    D - 고객 정보 삭제
    Q - 프로그램 종료
    ''').upper()  

    if choice == "I":
        print("고객 정보 입력")
        name = input("이름: ")
        gender = input("성별(M/F): ").upper()
        while gender not in ['M', 'F']:
            print("올바른 성별을 입력하세요.")
            gender = input("성별(M/F): ").upper()
        email = input("이메일: ")
        while not re.match(r"[^@]+@[^@]+\.[^@]+", email):
            print("올바른 이메일을 입력하세요.")
            email = input("이메일: ")
        birthyear = input("출생년도(4자리): ")
        while len(birthyear) != 4:
            print("4자리의 출생년도를 입력하세요.")
            birthyear = input("출생년도(4자리): ")
        custlist.append({"name": name, "gender": gender, "email": email, "birthyear": birthyear})
        page += 1
        
    elif choice=="C":
        print("현재 고객 정보 조회")
        print(f"현재 페이지: {page + 1}")
        if len(custlist) == 0:
            print("고객 정보가 없습니다.")
        else:
            print(custlist[page])
            
    elif choice == 'P':
        print("이전 고객 정보 조회")
        if page == 0:
            print("첫 번째 페이지입니다.")
        else:
            page -= 1
            print(f"변경된 페이지: {page + 1}")
            print(custlist[page])
            
    elif choice == 'N':
        print("다음 고객 정보 조회")
        if page == len(custlist) - 1:
            print("마지막 페이지입니다.")
        else:
            page += 1
            print(f"변경된 페이지: {page + 1}")
            print(custlist[page])
            
    elif choice=='D':
        print("고객 정보 삭제")
        email = input("삭제할 고객의 이메일: ")
        delok = 0
        for i, customer in enumerate(custlist):
            if customer["email"] == email:
                del custlist[i]
                delok = 1
                break
        if delok == 0:
            print("삭제할 이메일이 등록되지 않았습니다.")
            
    elif choice=="U": 
        print("고객 정보 수정")
        email = input("수정할 고객의 이메일: ")
        idx = -1
        for i, customer in enumerate(custlist):
            if customer["email"] == email:
                idx = i
                break
        if idx == -1:
            print("등록되지 않은 이메일입니다.")
        else:
            field = input("수정할 정보 선택 (이름/성별/출생년도): ")
            if field == '이름':
                custlist[idx]["name"] = input("새 이름: ")
            elif field == '성별':
                custlist[idx]["gender"] = input("새 성별(M/F): ").upper()
                while custlist[idx]["gender"] not in ['M', 'F']:
                    print("올바른 성별을 입력하세요.")
                    custlist[idx]["gender"] = input("새 성별(M/F): ").upper()
            elif field == '출생년도':
                custlist[idx]["birthyear"] = input("새 출생년도(4자리): ")
                while len(custlist[idx]["birthyear"]) != 4:
                    print("4자리의 출생년도를 입력하세요.")
                    custlist[idx]["birthyear"] = input("새 출생년도(4자리): ")
            else:
                print("잘못된 입력입니다.")
                
    elif choice=="Q":
        print("프로그램 종료")
        break


q
