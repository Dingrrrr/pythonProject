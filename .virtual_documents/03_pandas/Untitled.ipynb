import pandas as pd


pd.Series(['banana', 42])





pd.DataFrame({"name":['홍길동','김철수'],
              "Age": [37,43]})


df.T


df = pd.read_csv('data/scientists.csv')


df.head(1)


df.describe()


df.mean(axis=1,numeric_only=True)


df[df.Age > df.Age.mean()]


df.Age, df.Age + pd.Series([10,20])


df.sort_index(ascending=False)


df_sort = df.sort_values('Age')


df.Age, df_sort.Age +df.Age


df.info()


df.head(2)


pd.to_datetime(df.Born)


df['born_dt' = pd.to_datetime(


date = '09-12-24'
pd.to_datetime(date,format='%m-%d-%y')


df.head(1)



