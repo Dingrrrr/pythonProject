import pandas as pd


pew_df = pd.read_csv('data/pew.csv')


pew_df.melt()


pew_df.head(1)


pew_df.melt(id_vars=['religion'], var_name="income", value_name="count")


car_df = pd.read_csv('인천광역시_소방장비 현황_20201231.csv',encoding='cp949')


car_df.columns


car_df.melt(id_vars='소방서별(1)')


car_df_melt.rename(columns={"소방서별(1)": "소방서명", "variable": "차량종류"}, inplace=True)


car_df_melt).head(1)


car_df_melt.columns


billboard_df = pd.read_csv('data/billboard.csv')


billboard_df.columns


billboard_melt = billboard_df.melt(id_vars=['year','artist','track','time','date.entered'])


billboard_melt.columns = ['year','artist','track','time','date.entered','week','rating']


billboard_melt.columns


evola = pd.read_csv('data/country_timeseries.csv')


evola.info()


evola_melt = evola.melt(id_vars=['Date','Day'])


evola_melt.columns


result = evola_melt.variable.str.split('_',expand=True)


evola_melt['status'] = result[0]


evola_melt['country'] = result[1]


evola_melt


evola_melt.drop(columns='variable', inplace=True)


evola_melt


evola


evola['pre'] = evola['Cases_Guinea'].shift(-1) #현재를 기준으로 1칸 뒤쪽에 있는 값을 앞으로 땡겨옴. 1은 한칸이 밀림


evola['Cases_Guinea'].fillna(0) - evola['pre'].fillna(0)


weather = pd.read_csv('data/weather.csv')


weather.info()


weather_melt = weather.melt(id_vars=['id','year','month','element'])


weather_melt.columns = ['id','year','month','element','day','temp']


weather_melt.columns


weather_melt.head(2)


weather_tidy = weather_melt.pivot_table(
    index=['id','year','month','day'],
    columns=['element'],
    values=['temp'], )


weather_tidy.reset_index(inplace=True)


weather_tidy


result = (weather_melt
 .pivot_table(index=['id','year','month','day'],
               columns=['element'],
               values=['temp'])
 .reset_index())


result



