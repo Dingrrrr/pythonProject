import pandas


pandas.__version__


pip list





pandas.read_csv('data/gapminder.tsv', sep='\t')


import pandas as pd


df = pd.read_csv('data/gapminder.tsv', sep='\t')


print(type(df))


type(df)


df.shape


df.columns


df.dtypes


df.info()


df.head()


df.tail(2)


df.sample()


df.columns


df['country']


type(df['country'])


s1 = df['country']


s1.head()


df


df['country']


df.pop


df[0]


df.country


df[['country','pop']]


df


df.loc


# loc 이름
# df.loc[행,열]
df.loc[0, 'country']


df.loc[1:3, 'country':'year']


df.loc[[1,4],['year','pop']]


# ㅑloc 인덱스
# df.iloc[행,열]
df.iloc[0, 0]


df.iloc[:,0]


df.iloc[:,1:3]


df.iloc[[1,5,8],[0,3,4]]


list(range(5))


df.iloc[:,list(range(5))]


# 연도별 평균 기대 수명은?


df.dtypes


df.groupby(['continent','year'])[['lifeExp','gdpPercap']].mean()


# 기대수명, 인구 GDP의 평균은?


df[['lifeExp','pop','gdpPercap']].mean()


# 데이터를 대륙별로 나누어서 통계를 계산하려면?


result1 = df.groupby('continent')[['lifeExp','gdpPercap']].mean()


result1.index


result1.columns





result1


# 대륙별 국가 갯수는?


df.groupby('continent')['country'].nunique()


df.groupby('continent')['country'].value_counts()


result = df.groupby('year')['lifeExp'].mean()


result.plot(kind='bar')


df.describe()



