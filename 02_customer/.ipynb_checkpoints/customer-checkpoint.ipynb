{
 "cells": [
  {
   "cell_type": "code",
   "execution_count": 8,
   "id": "603649fb-cc5c-48df-8dae-199dc16783ff",
   "metadata": {},
   "outputs": [
    {
     "name": "stdin",
     "output_type": "stream",
     "text": [
      "\n",
      "    다음 중에서 하실 일을 골라주세요 :\n",
      "    I - 고객 정보 입력\n",
      "    C - 현재 고객 정보 조회\n",
      "    P - 이전 고객 정보 조회\n",
      "    N - 다음 고객 정보 조회\n",
      "    U - 고객 정보 수정\n",
      "    D - 고객 정보 삭제\n",
      "    Q - 프로그램 종료\n",
      "     Q\n"
     ]
    },
    {
     "name": "stdout",
     "output_type": "stream",
     "text": [
      "프로그램 종료\n"
     ]
    }
   ],
   "source": [
    "import re\n",
    "custlist=[]\n",
    "page=-1\n",
    "\n",
    "\n",
    "while True:\n",
    "    choice=input('''\n",
    "    다음 중에서 하실 일을 골라주세요 :\n",
    "    I - 고객 정보 입력\n",
    "    C - 현재 고객 정보 조회\n",
    "    P - 이전 고객 정보 조회\n",
    "    N - 다음 고객 정보 조회\n",
    "    U - 고객 정보 수정\n",
    "    D - 고객 정보 삭제\n",
    "    Q - 프로그램 종료\n",
    "    ''')  \n",
    "\n",
    "    if choice==\"I\":        \n",
    "        print(\"고객 정보 입력\")\n",
    "        break\n",
    "    elif choice==\"C\":\n",
    "        print(\"현재 고객 정보 조회\")\n",
    "        break\n",
    "    elif choice == 'P':\n",
    "        print(\"이전 고객 정보 조회\")\n",
    "        break\n",
    "    elif choice == 'N':\n",
    "        print(\"다음 고객 정보 조회\")\n",
    "        break\n",
    "    elif choice=='D':\n",
    "        print(\"고객 정보 삭제\")\n",
    "        break\n",
    "    elif choice==\"U\": \n",
    "        print(\"고객 정보 수정\")\n",
    "        break\n",
    "    elif choice==\"Q\":\n",
    "        print(\"프로그램 종료\")\n",
    "        break"
   ]
  },
  {
   "cell_type": "code",
   "execution_count": 10,
   "id": "607d62e5-2d37-47f1-8b74-e57b7d8f07bf",
   "metadata": {},
   "outputs": [
    {
     "ename": "SyntaxError",
     "evalue": "expected ':' (719409558.py, line 3)",
     "output_type": "error",
     "traceback": [
      "\u001b[1;36m  Cell \u001b[1;32mIn[10], line 3\u001b[1;36m\u001b[0m\n\u001b[1;33m    if gender==\"M\"\u001b[0m\n\u001b[1;37m                  ^\u001b[0m\n\u001b[1;31mSyntaxError\u001b[0m\u001b[1;31m:\u001b[0m expected ':'\n"
     ]
    }
   ],
   "source": [
    "print(\"고객 정보 입력\")\n",
    "name = input(\"이름: \")\n",
    "gender = input(\"성별(M/F): \").upper()\n",
    "while gent \n",
    "print(gender)\n",
    "if gender=='M':\n",
    "    print(gender)\n",
    "    break\n",
    "elif gender=='m':\n",
    "    gender = gender.upper()\n",
    "    print(gender)\n",
    "    break\n",
    "elif gender=='F':\n",
    "    print(gender)\n",
    "    break\n",
    "elif gender=='f':\n",
    "    gender = gender.upper()\n",
    "    print(gender)\n",
    "    break\n",
    "else:\n",
    "    gender = input('M과 F중 하나를 입력해주세요: ')\n",
    "    \n",
    "\n"
   ]
  },
  {
   "cell_type": "code",
   "execution_count": 11,
   "id": "626dd48f-d211-4b9e-add1-f48f02380c12",
   "metadata": {},
   "outputs": [
    {
     "name": "stdin",
     "output_type": "stream",
     "text": [
      "\n",
      "    다음 중에서 하실 일을 골라주세요 :\n",
      "    I - 고객 정보 입력\n",
      "    C - 현재 고객 정보 조회\n",
      "    P - 이전 고객 정보 조회\n",
      "    N - 다음 고객 정보 조회\n",
      "    U - 고객 정보 수정\n",
      "    D - 고객 정보 삭제\n",
      "    Q - 프로그램 종료\n",
      "     i\n"
     ]
    },
    {
     "name": "stdout",
     "output_type": "stream",
     "text": [
      "고객 정보 입력\n"
     ]
    },
    {
     "name": "stdin",
     "output_type": "stream",
     "text": [
      "이름:  박윤아\n",
      "성별(M/F):  f\n",
      "이메일:  dbsdk6789@naver.com\n",
      "출생년도(4자리):  2001\n",
      "\n",
      "    다음 중에서 하실 일을 골라주세요 :\n",
      "    I - 고객 정보 입력\n",
      "    C - 현재 고객 정보 조회\n",
      "    P - 이전 고객 정보 조회\n",
      "    N - 다음 고객 정보 조회\n",
      "    U - 고객 정보 수정\n",
      "    D - 고객 정보 삭제\n",
      "    Q - 프로그램 종료\n",
      "     i\n"
     ]
    },
    {
     "name": "stdout",
     "output_type": "stream",
     "text": [
      "고객 정보 입력\n"
     ]
    },
    {
     "name": "stdin",
     "output_type": "stream",
     "text": [
      "이름:  박윤서\n",
      "성별(M/F):  f\n",
      "이메일:  dbstj6789@naver.com\n",
      "출생년도(4자리):  2002\n",
      "\n",
      "    다음 중에서 하실 일을 골라주세요 :\n",
      "    I - 고객 정보 입력\n",
      "    C - 현재 고객 정보 조회\n",
      "    P - 이전 고객 정보 조회\n",
      "    N - 다음 고객 정보 조회\n",
      "    U - 고객 정보 수정\n",
      "    D - 고객 정보 삭제\n",
      "    Q - 프로그램 종료\n",
      "     c\n"
     ]
    },
    {
     "name": "stdout",
     "output_type": "stream",
     "text": [
      "현재 고객 정보 조회\n",
      "현재 페이지: 2\n",
      "{'name': '박윤서', 'gender': 'F', 'email': 'dbstj6789@naver.com', 'birthyear': '2002'}\n"
     ]
    },
    {
     "name": "stdin",
     "output_type": "stream",
     "text": [
      "\n",
      "    다음 중에서 하실 일을 골라주세요 :\n",
      "    I - 고객 정보 입력\n",
      "    C - 현재 고객 정보 조회\n",
      "    P - 이전 고객 정보 조회\n",
      "    N - 다음 고객 정보 조회\n",
      "    U - 고객 정보 수정\n",
      "    D - 고객 정보 삭제\n",
      "    Q - 프로그램 종료\n",
      "     p\n"
     ]
    },
    {
     "name": "stdout",
     "output_type": "stream",
     "text": [
      "이전 고객 정보 조회\n",
      "변경된 페이지: 1\n",
      "{'name': '박윤아', 'gender': 'F', 'email': 'dbsdk6789@naver.com', 'birthyear': '2001'}\n"
     ]
    },
    {
     "name": "stdin",
     "output_type": "stream",
     "text": [
      "\n",
      "    다음 중에서 하실 일을 골라주세요 :\n",
      "    I - 고객 정보 입력\n",
      "    C - 현재 고객 정보 조회\n",
      "    P - 이전 고객 정보 조회\n",
      "    N - 다음 고객 정보 조회\n",
      "    U - 고객 정보 수정\n",
      "    D - 고객 정보 삭제\n",
      "    Q - 프로그램 종료\n",
      "     c\n"
     ]
    },
    {
     "name": "stdout",
     "output_type": "stream",
     "text": [
      "현재 고객 정보 조회\n",
      "현재 페이지: 1\n",
      "{'name': '박윤아', 'gender': 'F', 'email': 'dbsdk6789@naver.com', 'birthyear': '2001'}\n"
     ]
    },
    {
     "name": "stdin",
     "output_type": "stream",
     "text": [
      "\n",
      "    다음 중에서 하실 일을 골라주세요 :\n",
      "    I - 고객 정보 입력\n",
      "    C - 현재 고객 정보 조회\n",
      "    P - 이전 고객 정보 조회\n",
      "    N - 다음 고객 정보 조회\n",
      "    U - 고객 정보 수정\n",
      "    D - 고객 정보 삭제\n",
      "    Q - 프로그램 종료\n",
      "     n\n"
     ]
    },
    {
     "name": "stdout",
     "output_type": "stream",
     "text": [
      "다음 고객 정보 조회\n",
      "변경된 페이지: 2\n",
      "{'name': '박윤서', 'gender': 'F', 'email': 'dbstj6789@naver.com', 'birthyear': '2002'}\n"
     ]
    },
    {
     "name": "stdin",
     "output_type": "stream",
     "text": [
      "\n",
      "    다음 중에서 하실 일을 골라주세요 :\n",
      "    I - 고객 정보 입력\n",
      "    C - 현재 고객 정보 조회\n",
      "    P - 이전 고객 정보 조회\n",
      "    N - 다음 고객 정보 조회\n",
      "    U - 고객 정보 수정\n",
      "    D - 고객 정보 삭제\n",
      "    Q - 프로그램 종료\n",
      "     c\n"
     ]
    },
    {
     "name": "stdout",
     "output_type": "stream",
     "text": [
      "현재 고객 정보 조회\n",
      "현재 페이지: 2\n",
      "{'name': '박윤서', 'gender': 'F', 'email': 'dbstj6789@naver.com', 'birthyear': '2002'}\n"
     ]
    },
    {
     "name": "stdin",
     "output_type": "stream",
     "text": [
      "\n",
      "    다음 중에서 하실 일을 골라주세요 :\n",
      "    I - 고객 정보 입력\n",
      "    C - 현재 고객 정보 조회\n",
      "    P - 이전 고객 정보 조회\n",
      "    N - 다음 고객 정보 조회\n",
      "    U - 고객 정보 수정\n",
      "    D - 고객 정보 삭제\n",
      "    Q - 프로그램 종료\n",
      "     u\n"
     ]
    },
    {
     "name": "stdout",
     "output_type": "stream",
     "text": [
      "고객 정보 수정\n"
     ]
    },
    {
     "name": "stdin",
     "output_type": "stream",
     "text": [
      "수정할 고객의 이메일:  dbsdk6789@naver.com\n",
      "수정할 정보 선택 (이름/성별/출생년도):  이름\n",
      "새 이름:  박성민\n",
      "\n",
      "    다음 중에서 하실 일을 골라주세요 :\n",
      "    I - 고객 정보 입력\n",
      "    C - 현재 고객 정보 조회\n",
      "    P - 이전 고객 정보 조회\n",
      "    N - 다음 고객 정보 조회\n",
      "    U - 고객 정보 수정\n",
      "    D - 고객 정보 삭제\n",
      "    Q - 프로그램 종료\n",
      "     c\n"
     ]
    },
    {
     "name": "stdout",
     "output_type": "stream",
     "text": [
      "현재 고객 정보 조회\n",
      "현재 페이지: 2\n",
      "{'name': '박윤서', 'gender': 'F', 'email': 'dbstj6789@naver.com', 'birthyear': '2002'}\n"
     ]
    },
    {
     "name": "stdin",
     "output_type": "stream",
     "text": [
      "\n",
      "    다음 중에서 하실 일을 골라주세요 :\n",
      "    I - 고객 정보 입력\n",
      "    C - 현재 고객 정보 조회\n",
      "    P - 이전 고객 정보 조회\n",
      "    N - 다음 고객 정보 조회\n",
      "    U - 고객 정보 수정\n",
      "    D - 고객 정보 삭제\n",
      "    Q - 프로그램 종료\n",
      "     p\n"
     ]
    },
    {
     "name": "stdout",
     "output_type": "stream",
     "text": [
      "이전 고객 정보 조회\n",
      "변경된 페이지: 1\n",
      "{'name': '박성민', 'gender': 'F', 'email': 'dbsdk6789@naver.com', 'birthyear': '2001'}\n"
     ]
    },
    {
     "name": "stdin",
     "output_type": "stream",
     "text": [
      "\n",
      "    다음 중에서 하실 일을 골라주세요 :\n",
      "    I - 고객 정보 입력\n",
      "    C - 현재 고객 정보 조회\n",
      "    P - 이전 고객 정보 조회\n",
      "    N - 다음 고객 정보 조회\n",
      "    U - 고객 정보 수정\n",
      "    D - 고객 정보 삭제\n",
      "    Q - 프로그램 종료\n",
      "     d\n"
     ]
    },
    {
     "name": "stdout",
     "output_type": "stream",
     "text": [
      "고객 정보 삭제\n"
     ]
    },
    {
     "name": "stdin",
     "output_type": "stream",
     "text": [
      "삭제할 고객의 이메일:  dbsdk6789@naver.com\n",
      "\n",
      "    다음 중에서 하실 일을 골라주세요 :\n",
      "    I - 고객 정보 입력\n",
      "    C - 현재 고객 정보 조회\n",
      "    P - 이전 고객 정보 조회\n",
      "    N - 다음 고객 정보 조회\n",
      "    U - 고객 정보 수정\n",
      "    D - 고객 정보 삭제\n",
      "    Q - 프로그램 종료\n",
      "     c\n"
     ]
    },
    {
     "name": "stdout",
     "output_type": "stream",
     "text": [
      "현재 고객 정보 조회\n",
      "현재 페이지: 1\n",
      "{'name': '박윤서', 'gender': 'F', 'email': 'dbstj6789@naver.com', 'birthyear': '2002'}\n"
     ]
    },
    {
     "name": "stdin",
     "output_type": "stream",
     "text": [
      "\n",
      "    다음 중에서 하실 일을 골라주세요 :\n",
      "    I - 고객 정보 입력\n",
      "    C - 현재 고객 정보 조회\n",
      "    P - 이전 고객 정보 조회\n",
      "    N - 다음 고객 정보 조회\n",
      "    U - 고객 정보 수정\n",
      "    D - 고객 정보 삭제\n",
      "    Q - 프로그램 종료\n",
      "     p\n"
     ]
    },
    {
     "name": "stdout",
     "output_type": "stream",
     "text": [
      "이전 고객 정보 조회\n",
      "첫 번째 페이지입니다.\n"
     ]
    },
    {
     "name": "stdin",
     "output_type": "stream",
     "text": [
      "\n",
      "    다음 중에서 하실 일을 골라주세요 :\n",
      "    I - 고객 정보 입력\n",
      "    C - 현재 고객 정보 조회\n",
      "    P - 이전 고객 정보 조회\n",
      "    N - 다음 고객 정보 조회\n",
      "    U - 고객 정보 수정\n",
      "    D - 고객 정보 삭제\n",
      "    Q - 프로그램 종료\n",
      "     n\n"
     ]
    },
    {
     "name": "stdout",
     "output_type": "stream",
     "text": [
      "다음 고객 정보 조회\n",
      "마지막 페이지입니다.\n"
     ]
    },
    {
     "name": "stdin",
     "output_type": "stream",
     "text": [
      "\n",
      "    다음 중에서 하실 일을 골라주세요 :\n",
      "    I - 고객 정보 입력\n",
      "    C - 현재 고객 정보 조회\n",
      "    P - 이전 고객 정보 조회\n",
      "    N - 다음 고객 정보 조회\n",
      "    U - 고객 정보 수정\n",
      "    D - 고객 정보 삭제\n",
      "    Q - 프로그램 종료\n",
      "     q\n"
     ]
    },
    {
     "name": "stdout",
     "output_type": "stream",
     "text": [
      "프로그램 종료\n"
     ]
    }
   ],
   "source": [
    "import re\n",
    "\n",
    "custlist = []\n",
    "page = -1\n",
    "\n",
    "while True:\n",
    "    choice = input('''\n",
    "    다음 중에서 하실 일을 골라주세요 :\n",
    "    I - 고객 정보 입력\n",
    "    C - 현재 고객 정보 조회\n",
    "    P - 이전 고객 정보 조회\n",
    "    N - 다음 고객 정보 조회\n",
    "    U - 고객 정보 수정\n",
    "    D - 고객 정보 삭제\n",
    "    Q - 프로그램 종료\n",
    "    ''').upper()  \n",
    "\n",
    "    if choice == \"I\":\n",
    "        print(\"고객 정보 입력\")\n",
    "        name = input(\"이름: \")\n",
    "        gender = input(\"성별(M/F): \").upper()\n",
    "        while gender not in ['M', 'F']:\n",
    "            print(\"올바른 성별을 입력하세요.\")\n",
    "            gender = input(\"성별(M/F): \").upper()\n",
    "        email = input(\"이메일: \")\n",
    "        while not re.match(r\"[^@]+@[^@]+\\.[^@]+\", email):\n",
    "            print(\"올바른 이메일을 입력하세요.\")\n",
    "            email = input(\"이메일: \")\n",
    "        birthyear = input(\"출생년도(4자리): \")\n",
    "        while len(birthyear) != 4:\n",
    "            print(\"4자리의 출생년도를 입력하세요.\")\n",
    "            birthyear = input(\"출생년도(4자리): \")\n",
    "        custlist.append({\"name\": name, \"gender\": gender, \"email\": email, \"birthyear\": birthyear})\n",
    "        page += 1\n",
    "        \n",
    "    elif choice==\"C\":\n",
    "        print(\"현재 고객 정보 조회\")\n",
    "        print(f\"현재 페이지: {page + 1}\")\n",
    "        if len(custlist) == 0:\n",
    "            print(\"고객 정보가 없습니다.\")\n",
    "        else:\n",
    "            print(custlist[page])\n",
    "            \n",
    "    elif choice == 'P':\n",
    "        print(\"이전 고객 정보 조회\")\n",
    "        if page == 0:\n",
    "            print(\"첫 번째 페이지입니다.\")\n",
    "        else:\n",
    "            page -= 1\n",
    "            print(f\"변경된 페이지: {page + 1}\")\n",
    "            print(custlist[page])\n",
    "            \n",
    "    elif choice == 'N':\n",
    "        print(\"다음 고객 정보 조회\")\n",
    "        if page == len(custlist) - 1:\n",
    "            print(\"마지막 페이지입니다.\")\n",
    "        else:\n",
    "            page += 1\n",
    "            print(f\"변경된 페이지: {page + 1}\")\n",
    "            print(custlist[page])\n",
    "            \n",
    "    elif choice=='D':\n",
    "        print(\"고객 정보 삭제\")\n",
    "        email = input(\"삭제할 고객의 이메일: \")\n",
    "        delok = 0\n",
    "        for i, customer in enumerate(custlist):\n",
    "            if customer[\"email\"] == email:\n",
    "                del custlist[i]\n",
    "                delok = 1\n",
    "                break\n",
    "        if delok == 0:\n",
    "            print(\"삭제할 이메일이 등록되지 않았습니다.\")\n",
    "            \n",
    "    elif choice==\"U\": \n",
    "        print(\"고객 정보 수정\")\n",
    "        email = input(\"수정할 고객의 이메일: \")\n",
    "        idx = -1\n",
    "        for i, customer in enumerate(custlist):\n",
    "            if customer[\"email\"] == email:\n",
    "                idx = i\n",
    "                break\n",
    "        if idx == -1:\n",
    "            print(\"등록되지 않은 이메일입니다.\")\n",
    "        else:\n",
    "            field = input(\"수정할 정보 선택 (이름/성별/출생년도): \")\n",
    "            if field == '이름':\n",
    "                custlist[idx][\"name\"] = input(\"새 이름: \")\n",
    "            elif field == '성별':\n",
    "                custlist[idx][\"gender\"] = input(\"새 성별(M/F): \").upper()\n",
    "                while custlist[idx][\"gender\"] not in ['M', 'F']:\n",
    "                    print(\"올바른 성별을 입력하세요.\")\n",
    "                    custlist[idx][\"gender\"] = input(\"새 성별(M/F): \").upper()\n",
    "            elif field == '출생년도':\n",
    "                custlist[idx][\"birthyear\"] = input(\"새 출생년도(4자리): \")\n",
    "                while len(custlist[idx][\"birthyear\"]) != 4:\n",
    "                    print(\"4자리의 출생년도를 입력하세요.\")\n",
    "                    custlist[idx][\"birthyear\"] = input(\"새 출생년도(4자리): \")\n",
    "            else:\n",
    "                print(\"잘못된 입력입니다.\")\n",
    "                \n",
    "    elif choice==\"Q\":\n",
    "        print(\"프로그램 종료\")\n",
    "        break"
   ]
  },
  {
   "cell_type": "code",
   "execution_count": null,
   "id": "e8780557-5914-489a-8ca5-e0ea98703b79",
   "metadata": {},
   "outputs": [],
   "source": [
    "q"
   ]
  }
 ],
 "metadata": {
  "kernelspec": {
   "display_name": "Python 3 (ipykernel)",
   "language": "python",
   "name": "python3"
  },
  "language_info": {
   "codemirror_mode": {
    "name": "ipython",
    "version": 3
   },
   "file_extension": ".py",
   "mimetype": "text/x-python",
   "name": "python",
   "nbconvert_exporter": "python",
   "pygments_lexer": "ipython3",
   "version": "3.11.7"
  }
 },
 "nbformat": 4,
 "nbformat_minor": 5
}
